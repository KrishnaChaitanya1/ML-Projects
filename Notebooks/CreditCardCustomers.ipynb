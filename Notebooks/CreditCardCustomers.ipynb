{
 "cells": [
  {
   "source": [
    "## Dataset Information\n",
    "\n",
    "Number: CLIENTNUM: Client number. Unique identifier for the customer holding the account  \n",
    "Cat: Attrition_Flag: Internal event (customer activity) variable - if the account is closed then 1 else 0  \n",
    "Num: Customer_Age: Demographic variable - Customer's Age in Years  \n",
    "Cat: Gender: Demographic variable - M=Male, F=Female  \n",
    "Num: Dependent_count: Demographic variable - Number of dependents  \n",
    "Cat: Education_Level: Demographic variable - Educational Qualification of the account holder (example: high school, college graduate, etc.)  \n",
    "Cat: Marital_Status: Demographic variable - Married, Single, Divorced, Unknown  \n",
    "Cat: Income_Category: Demographic variable - Annual Income Category of the account holder (< $40K, $40K - 60K, $60K - $80K, $80K-$120K, >   \n",
    "Cat: Card_Category: Product Variable - Type of Card (Blue, Silver, Gold, Platinum)  \n",
    "Num: Months_on_book: Period of relationship with bank  \n",
    "Num: Total_Relationship_Count: Total no. of products held by the customer  \n",
    "Num: Months_Inactive_12_mon: No. of months inactive in the last 12 months  \n",
    "Num: Contacts_Count_12_mon: No. of Contacts in the last 12 months  \n",
    "Num: Credit_Limit: Credit Limit on the Credit Card  \n",
    "Num: Total_Revolving_Bal: Total Revolving Balance on the Credit Card  \n",
    "Num: Avg_Open_To_Buy: Open to Buy Credit Line (Average of last 12 months)  \n",
    "Num: Total_Amt_Chng_Q4_Q1: Change in Transaction Amount (Q4 over Q1)  \n",
    "Num: Total_Trans_Amt: Total Transaction Amount (Last 12 months)  \n",
    "Num: Total_Trans_Ct: Total Transaction Count (Last 12 months)  \n",
    "Num: Total_Ct_Chng_Q4_Q1: Change in Transaction Count (Q4 over Q1)     \n",
    "Num: Avg_Utilization_Ratio: Average Card Utilization Ratio  "
   ],
   "cell_type": "markdown",
   "metadata": {}
  },
  {
   "cell_type": "code",
   "execution_count": 36,
   "id": "generic-transparency",
   "metadata": {},
   "outputs": [],
   "source": [
    "# https://www.kaggle.com/sakshigoyal7/credit-card-customers\n",
    "import numpy as np\n",
    "import pandas as pd\n",
    "\n",
    "import matplotlib as mpl\n",
    "import matplotlib.pyplot as plt\n",
    "import seaborn as sns\n",
    "\n",
    "\n",
    "from Helpers.value_counts_functions import ValueCounts\n",
    "\n",
    "# Configurations\n",
    "mpl.rcParams[\"figure.figsize\"] = [30.0, 30.0]\n",
    "mpl.rcParams[\"font.size\"] = 9.0\n",
    "pd.set_option(\"display.max_columns\", None)\n",
    "sns.set_style(\"darkgrid\")\n",
    "sns.set_color_codes(\"pastel\")\n",
    "%matplotlib inline"
   ]
  },
  {
   "cell_type": "code",
   "execution_count": 2,
   "id": "angry-responsibility",
   "metadata": {},
   "outputs": [
    {
     "output_type": "execute_result",
     "data": {
      "text/plain": [
       "    CLIENTNUM     Attrition_Flag  Customer_Age Gender  Dependent_count  \\\n",
       "0   768805383  Existing Customer            45      M                3   \n",
       "1   818770008  Existing Customer            49      F                5   \n",
       "2   713982108  Existing Customer            51      M                3   \n",
       "3   769911858  Existing Customer            40      F                4   \n",
       "4   709106358  Existing Customer            40      M                3   \n",
       "5   713061558  Existing Customer            44      M                2   \n",
       "6   810347208  Existing Customer            51      M                4   \n",
       "7   818906208  Existing Customer            32      M                0   \n",
       "8   710930508  Existing Customer            37      M                3   \n",
       "9   719661558  Existing Customer            48      M                2   \n",
       "10  708790833  Existing Customer            42      M                5   \n",
       "11  710821833  Existing Customer            65      M                1   \n",
       "\n",
       "   Education_Level Marital_Status Income_Category Card_Category  \\\n",
       "0      High School        Married     $60K - $80K          Blue   \n",
       "1         Graduate         Single  Less than $40K          Blue   \n",
       "2         Graduate        Married    $80K - $120K          Blue   \n",
       "3      High School        Unknown  Less than $40K          Blue   \n",
       "4       Uneducated        Married     $60K - $80K          Blue   \n",
       "5         Graduate        Married     $40K - $60K          Blue   \n",
       "6          Unknown        Married         $120K +          Gold   \n",
       "7      High School        Unknown     $60K - $80K        Silver   \n",
       "8       Uneducated         Single     $60K - $80K          Blue   \n",
       "9         Graduate         Single    $80K - $120K          Blue   \n",
       "10      Uneducated        Unknown         $120K +          Blue   \n",
       "11         Unknown        Married     $40K - $60K          Blue   \n",
       "\n",
       "    Months_on_book  Total_Relationship_Count  Months_Inactive_12_mon  \\\n",
       "0               39                         5                       1   \n",
       "1               44                         6                       1   \n",
       "2               36                         4                       1   \n",
       "3               34                         3                       4   \n",
       "4               21                         5                       1   \n",
       "5               36                         3                       1   \n",
       "6               46                         6                       1   \n",
       "7               27                         2                       2   \n",
       "8               36                         5                       2   \n",
       "9               36                         6                       3   \n",
       "10              31                         5                       3   \n",
       "11              54                         6                       2   \n",
       "\n",
       "    Contacts_Count_12_mon  Credit_Limit  Total_Revolving_Bal  Avg_Open_To_Buy  \\\n",
       "0                       3       12691.0                  777          11914.0   \n",
       "1                       2        8256.0                  864           7392.0   \n",
       "2                       0        3418.0                    0           3418.0   \n",
       "3                       1        3313.0                 2517            796.0   \n",
       "4                       0        4716.0                    0           4716.0   \n",
       "5                       2        4010.0                 1247           2763.0   \n",
       "6                       3       34516.0                 2264          32252.0   \n",
       "7                       2       29081.0                 1396          27685.0   \n",
       "8                       0       22352.0                 2517          19835.0   \n",
       "9                       3       11656.0                 1677           9979.0   \n",
       "10                      2        6748.0                 1467           5281.0   \n",
       "11                      3        9095.0                 1587           7508.0   \n",
       "\n",
       "    Total_Amt_Chng_Q4_Q1  Total_Trans_Amt  Total_Trans_Ct  \\\n",
       "0                  1.335             1144              42   \n",
       "1                  1.541             1291              33   \n",
       "2                  2.594             1887              20   \n",
       "3                  1.405             1171              20   \n",
       "4                  2.175              816              28   \n",
       "5                  1.376             1088              24   \n",
       "6                  1.975             1330              31   \n",
       "7                  2.204             1538              36   \n",
       "8                  3.355             1350              24   \n",
       "9                  1.524             1441              32   \n",
       "10                 0.831             1201              42   \n",
       "11                 1.433             1314              26   \n",
       "\n",
       "    Total_Ct_Chng_Q4_Q1  Avg_Utilization_Ratio  \\\n",
       "0                 1.625                  0.061   \n",
       "1                 3.714                  0.105   \n",
       "2                 2.333                  0.000   \n",
       "3                 2.333                  0.760   \n",
       "4                 2.500                  0.000   \n",
       "5                 0.846                  0.311   \n",
       "6                 0.722                  0.066   \n",
       "7                 0.714                  0.048   \n",
       "8                 1.182                  0.113   \n",
       "9                 0.882                  0.144   \n",
       "10                0.680                  0.217   \n",
       "11                1.364                  0.174   \n",
       "\n",
       "    Naive_Bayes_Classifier_Attrition_Flag_Card_Category_Contacts_Count_12_mon_Dependent_count_Education_Level_Months_Inactive_12_mon_1  \\\n",
       "0                                            0.000093                                                                                    \n",
       "1                                            0.000057                                                                                    \n",
       "2                                            0.000021                                                                                    \n",
       "3                                            0.000134                                                                                    \n",
       "4                                            0.000022                                                                                    \n",
       "5                                            0.000055                                                                                    \n",
       "6                                            0.000123                                                                                    \n",
       "7                                            0.000086                                                                                    \n",
       "8                                            0.000045                                                                                    \n",
       "9                                            0.000303                                                                                    \n",
       "10                                           0.000191                                                                                    \n",
       "11                                           0.000198                                                                                    \n",
       "\n",
       "    Naive_Bayes_Classifier_Attrition_Flag_Card_Category_Contacts_Count_12_mon_Dependent_count_Education_Level_Months_Inactive_12_mon_2  \n",
       "0                                             0.99991                                                                                   \n",
       "1                                             0.99994                                                                                   \n",
       "2                                             0.99998                                                                                   \n",
       "3                                             0.99987                                                                                   \n",
       "4                                             0.99998                                                                                   \n",
       "5                                             0.99994                                                                                   \n",
       "6                                             0.99988                                                                                   \n",
       "7                                             0.99991                                                                                   \n",
       "8                                             0.99996                                                                                   \n",
       "9                                             0.99970                                                                                   \n",
       "10                                            0.99981                                                                                   \n",
       "11                                            0.99980                                                                                   "
      ],
      "text/html": "<div>\n<style scoped>\n    .dataframe tbody tr th:only-of-type {\n        vertical-align: middle;\n    }\n\n    .dataframe tbody tr th {\n        vertical-align: top;\n    }\n\n    .dataframe thead th {\n        text-align: right;\n    }\n</style>\n<table border=\"1\" class=\"dataframe\">\n  <thead>\n    <tr style=\"text-align: right;\">\n      <th></th>\n      <th>CLIENTNUM</th>\n      <th>Attrition_Flag</th>\n      <th>Customer_Age</th>\n      <th>Gender</th>\n      <th>Dependent_count</th>\n      <th>Education_Level</th>\n      <th>Marital_Status</th>\n      <th>Income_Category</th>\n      <th>Card_Category</th>\n      <th>Months_on_book</th>\n      <th>Total_Relationship_Count</th>\n      <th>Months_Inactive_12_mon</th>\n      <th>Contacts_Count_12_mon</th>\n      <th>Credit_Limit</th>\n      <th>Total_Revolving_Bal</th>\n      <th>Avg_Open_To_Buy</th>\n      <th>Total_Amt_Chng_Q4_Q1</th>\n      <th>Total_Trans_Amt</th>\n      <th>Total_Trans_Ct</th>\n      <th>Total_Ct_Chng_Q4_Q1</th>\n      <th>Avg_Utilization_Ratio</th>\n      <th>Naive_Bayes_Classifier_Attrition_Flag_Card_Category_Contacts_Count_12_mon_Dependent_count_Education_Level_Months_Inactive_12_mon_1</th>\n      <th>Naive_Bayes_Classifier_Attrition_Flag_Card_Category_Contacts_Count_12_mon_Dependent_count_Education_Level_Months_Inactive_12_mon_2</th>\n    </tr>\n  </thead>\n  <tbody>\n    <tr>\n      <th>0</th>\n      <td>768805383</td>\n      <td>Existing Customer</td>\n      <td>45</td>\n      <td>M</td>\n      <td>3</td>\n      <td>High School</td>\n      <td>Married</td>\n      <td>$60K - $80K</td>\n      <td>Blue</td>\n      <td>39</td>\n      <td>5</td>\n      <td>1</td>\n      <td>3</td>\n      <td>12691.0</td>\n      <td>777</td>\n      <td>11914.0</td>\n      <td>1.335</td>\n      <td>1144</td>\n      <td>42</td>\n      <td>1.625</td>\n      <td>0.061</td>\n      <td>0.000093</td>\n      <td>0.99991</td>\n    </tr>\n    <tr>\n      <th>1</th>\n      <td>818770008</td>\n      <td>Existing Customer</td>\n      <td>49</td>\n      <td>F</td>\n      <td>5</td>\n      <td>Graduate</td>\n      <td>Single</td>\n      <td>Less than $40K</td>\n      <td>Blue</td>\n      <td>44</td>\n      <td>6</td>\n      <td>1</td>\n      <td>2</td>\n      <td>8256.0</td>\n      <td>864</td>\n      <td>7392.0</td>\n      <td>1.541</td>\n      <td>1291</td>\n      <td>33</td>\n      <td>3.714</td>\n      <td>0.105</td>\n      <td>0.000057</td>\n      <td>0.99994</td>\n    </tr>\n    <tr>\n      <th>2</th>\n      <td>713982108</td>\n      <td>Existing Customer</td>\n      <td>51</td>\n      <td>M</td>\n      <td>3</td>\n      <td>Graduate</td>\n      <td>Married</td>\n      <td>$80K - $120K</td>\n      <td>Blue</td>\n      <td>36</td>\n      <td>4</td>\n      <td>1</td>\n      <td>0</td>\n      <td>3418.0</td>\n      <td>0</td>\n      <td>3418.0</td>\n      <td>2.594</td>\n      <td>1887</td>\n      <td>20</td>\n      <td>2.333</td>\n      <td>0.000</td>\n      <td>0.000021</td>\n      <td>0.99998</td>\n    </tr>\n    <tr>\n      <th>3</th>\n      <td>769911858</td>\n      <td>Existing Customer</td>\n      <td>40</td>\n      <td>F</td>\n      <td>4</td>\n      <td>High School</td>\n      <td>Unknown</td>\n      <td>Less than $40K</td>\n      <td>Blue</td>\n      <td>34</td>\n      <td>3</td>\n      <td>4</td>\n      <td>1</td>\n      <td>3313.0</td>\n      <td>2517</td>\n      <td>796.0</td>\n      <td>1.405</td>\n      <td>1171</td>\n      <td>20</td>\n      <td>2.333</td>\n      <td>0.760</td>\n      <td>0.000134</td>\n      <td>0.99987</td>\n    </tr>\n    <tr>\n      <th>4</th>\n      <td>709106358</td>\n      <td>Existing Customer</td>\n      <td>40</td>\n      <td>M</td>\n      <td>3</td>\n      <td>Uneducated</td>\n      <td>Married</td>\n      <td>$60K - $80K</td>\n      <td>Blue</td>\n      <td>21</td>\n      <td>5</td>\n      <td>1</td>\n      <td>0</td>\n      <td>4716.0</td>\n      <td>0</td>\n      <td>4716.0</td>\n      <td>2.175</td>\n      <td>816</td>\n      <td>28</td>\n      <td>2.500</td>\n      <td>0.000</td>\n      <td>0.000022</td>\n      <td>0.99998</td>\n    </tr>\n    <tr>\n      <th>5</th>\n      <td>713061558</td>\n      <td>Existing Customer</td>\n      <td>44</td>\n      <td>M</td>\n      <td>2</td>\n      <td>Graduate</td>\n      <td>Married</td>\n      <td>$40K - $60K</td>\n      <td>Blue</td>\n      <td>36</td>\n      <td>3</td>\n      <td>1</td>\n      <td>2</td>\n      <td>4010.0</td>\n      <td>1247</td>\n      <td>2763.0</td>\n      <td>1.376</td>\n      <td>1088</td>\n      <td>24</td>\n      <td>0.846</td>\n      <td>0.311</td>\n      <td>0.000055</td>\n      <td>0.99994</td>\n    </tr>\n    <tr>\n      <th>6</th>\n      <td>810347208</td>\n      <td>Existing Customer</td>\n      <td>51</td>\n      <td>M</td>\n      <td>4</td>\n      <td>Unknown</td>\n      <td>Married</td>\n      <td>$120K +</td>\n      <td>Gold</td>\n      <td>46</td>\n      <td>6</td>\n      <td>1</td>\n      <td>3</td>\n      <td>34516.0</td>\n      <td>2264</td>\n      <td>32252.0</td>\n      <td>1.975</td>\n      <td>1330</td>\n      <td>31</td>\n      <td>0.722</td>\n      <td>0.066</td>\n      <td>0.000123</td>\n      <td>0.99988</td>\n    </tr>\n    <tr>\n      <th>7</th>\n      <td>818906208</td>\n      <td>Existing Customer</td>\n      <td>32</td>\n      <td>M</td>\n      <td>0</td>\n      <td>High School</td>\n      <td>Unknown</td>\n      <td>$60K - $80K</td>\n      <td>Silver</td>\n      <td>27</td>\n      <td>2</td>\n      <td>2</td>\n      <td>2</td>\n      <td>29081.0</td>\n      <td>1396</td>\n      <td>27685.0</td>\n      <td>2.204</td>\n      <td>1538</td>\n      <td>36</td>\n      <td>0.714</td>\n      <td>0.048</td>\n      <td>0.000086</td>\n      <td>0.99991</td>\n    </tr>\n    <tr>\n      <th>8</th>\n      <td>710930508</td>\n      <td>Existing Customer</td>\n      <td>37</td>\n      <td>M</td>\n      <td>3</td>\n      <td>Uneducated</td>\n      <td>Single</td>\n      <td>$60K - $80K</td>\n      <td>Blue</td>\n      <td>36</td>\n      <td>5</td>\n      <td>2</td>\n      <td>0</td>\n      <td>22352.0</td>\n      <td>2517</td>\n      <td>19835.0</td>\n      <td>3.355</td>\n      <td>1350</td>\n      <td>24</td>\n      <td>1.182</td>\n      <td>0.113</td>\n      <td>0.000045</td>\n      <td>0.99996</td>\n    </tr>\n    <tr>\n      <th>9</th>\n      <td>719661558</td>\n      <td>Existing Customer</td>\n      <td>48</td>\n      <td>M</td>\n      <td>2</td>\n      <td>Graduate</td>\n      <td>Single</td>\n      <td>$80K - $120K</td>\n      <td>Blue</td>\n      <td>36</td>\n      <td>6</td>\n      <td>3</td>\n      <td>3</td>\n      <td>11656.0</td>\n      <td>1677</td>\n      <td>9979.0</td>\n      <td>1.524</td>\n      <td>1441</td>\n      <td>32</td>\n      <td>0.882</td>\n      <td>0.144</td>\n      <td>0.000303</td>\n      <td>0.99970</td>\n    </tr>\n    <tr>\n      <th>10</th>\n      <td>708790833</td>\n      <td>Existing Customer</td>\n      <td>42</td>\n      <td>M</td>\n      <td>5</td>\n      <td>Uneducated</td>\n      <td>Unknown</td>\n      <td>$120K +</td>\n      <td>Blue</td>\n      <td>31</td>\n      <td>5</td>\n      <td>3</td>\n      <td>2</td>\n      <td>6748.0</td>\n      <td>1467</td>\n      <td>5281.0</td>\n      <td>0.831</td>\n      <td>1201</td>\n      <td>42</td>\n      <td>0.680</td>\n      <td>0.217</td>\n      <td>0.000191</td>\n      <td>0.99981</td>\n    </tr>\n    <tr>\n      <th>11</th>\n      <td>710821833</td>\n      <td>Existing Customer</td>\n      <td>65</td>\n      <td>M</td>\n      <td>1</td>\n      <td>Unknown</td>\n      <td>Married</td>\n      <td>$40K - $60K</td>\n      <td>Blue</td>\n      <td>54</td>\n      <td>6</td>\n      <td>2</td>\n      <td>3</td>\n      <td>9095.0</td>\n      <td>1587</td>\n      <td>7508.0</td>\n      <td>1.433</td>\n      <td>1314</td>\n      <td>26</td>\n      <td>1.364</td>\n      <td>0.174</td>\n      <td>0.000198</td>\n      <td>0.99980</td>\n    </tr>\n  </tbody>\n</table>\n</div>"
     },
     "metadata": {},
     "execution_count": 2
    }
   ],
   "source": [
    "url = \"D:\\MindLab\\AI\\Machine-Learning-and-Data-Science-Projects\\Datasets\\BankChurners.csv\"\n",
    "data = pd.read_csv(url)\n",
    "\n",
    "data.head(12) # why 12? I dont know because I like 3?"
   ]
  },
  {
   "cell_type": "code",
   "execution_count": 3,
   "id": "excessive-effort",
   "metadata": {},
   "outputs": [],
   "source": [
    "# Remove last two columns. As mentioned in the description\n",
    "data.drop(data.columns[-2:], axis = 1, inplace = True)"
   ]
  },
  {
   "cell_type": "code",
   "execution_count": 4,
   "id": "contained-royalty",
   "metadata": {},
   "outputs": [
    {
     "output_type": "execute_result",
     "data": {
      "text/plain": [
       "    CLIENTNUM     Attrition_Flag  Customer_Age Gender  Dependent_count  \\\n",
       "0   768805383  Existing Customer            45      M                3   \n",
       "1   818770008  Existing Customer            49      F                5   \n",
       "2   713982108  Existing Customer            51      M                3   \n",
       "3   769911858  Existing Customer            40      F                4   \n",
       "4   709106358  Existing Customer            40      M                3   \n",
       "5   713061558  Existing Customer            44      M                2   \n",
       "6   810347208  Existing Customer            51      M                4   \n",
       "7   818906208  Existing Customer            32      M                0   \n",
       "8   710930508  Existing Customer            37      M                3   \n",
       "9   719661558  Existing Customer            48      M                2   \n",
       "10  708790833  Existing Customer            42      M                5   \n",
       "11  710821833  Existing Customer            65      M                1   \n",
       "\n",
       "   Education_Level Marital_Status Income_Category Card_Category  \\\n",
       "0      High School        Married     $60K - $80K          Blue   \n",
       "1         Graduate         Single  Less than $40K          Blue   \n",
       "2         Graduate        Married    $80K - $120K          Blue   \n",
       "3      High School        Unknown  Less than $40K          Blue   \n",
       "4       Uneducated        Married     $60K - $80K          Blue   \n",
       "5         Graduate        Married     $40K - $60K          Blue   \n",
       "6          Unknown        Married         $120K +          Gold   \n",
       "7      High School        Unknown     $60K - $80K        Silver   \n",
       "8       Uneducated         Single     $60K - $80K          Blue   \n",
       "9         Graduate         Single    $80K - $120K          Blue   \n",
       "10      Uneducated        Unknown         $120K +          Blue   \n",
       "11         Unknown        Married     $40K - $60K          Blue   \n",
       "\n",
       "    Months_on_book  Total_Relationship_Count  Months_Inactive_12_mon  \\\n",
       "0               39                         5                       1   \n",
       "1               44                         6                       1   \n",
       "2               36                         4                       1   \n",
       "3               34                         3                       4   \n",
       "4               21                         5                       1   \n",
       "5               36                         3                       1   \n",
       "6               46                         6                       1   \n",
       "7               27                         2                       2   \n",
       "8               36                         5                       2   \n",
       "9               36                         6                       3   \n",
       "10              31                         5                       3   \n",
       "11              54                         6                       2   \n",
       "\n",
       "    Contacts_Count_12_mon  Credit_Limit  Total_Revolving_Bal  Avg_Open_To_Buy  \\\n",
       "0                       3       12691.0                  777          11914.0   \n",
       "1                       2        8256.0                  864           7392.0   \n",
       "2                       0        3418.0                    0           3418.0   \n",
       "3                       1        3313.0                 2517            796.0   \n",
       "4                       0        4716.0                    0           4716.0   \n",
       "5                       2        4010.0                 1247           2763.0   \n",
       "6                       3       34516.0                 2264          32252.0   \n",
       "7                       2       29081.0                 1396          27685.0   \n",
       "8                       0       22352.0                 2517          19835.0   \n",
       "9                       3       11656.0                 1677           9979.0   \n",
       "10                      2        6748.0                 1467           5281.0   \n",
       "11                      3        9095.0                 1587           7508.0   \n",
       "\n",
       "    Total_Amt_Chng_Q4_Q1  Total_Trans_Amt  Total_Trans_Ct  \\\n",
       "0                  1.335             1144              42   \n",
       "1                  1.541             1291              33   \n",
       "2                  2.594             1887              20   \n",
       "3                  1.405             1171              20   \n",
       "4                  2.175              816              28   \n",
       "5                  1.376             1088              24   \n",
       "6                  1.975             1330              31   \n",
       "7                  2.204             1538              36   \n",
       "8                  3.355             1350              24   \n",
       "9                  1.524             1441              32   \n",
       "10                 0.831             1201              42   \n",
       "11                 1.433             1314              26   \n",
       "\n",
       "    Total_Ct_Chng_Q4_Q1  Avg_Utilization_Ratio  \n",
       "0                 1.625                  0.061  \n",
       "1                 3.714                  0.105  \n",
       "2                 2.333                  0.000  \n",
       "3                 2.333                  0.760  \n",
       "4                 2.500                  0.000  \n",
       "5                 0.846                  0.311  \n",
       "6                 0.722                  0.066  \n",
       "7                 0.714                  0.048  \n",
       "8                 1.182                  0.113  \n",
       "9                 0.882                  0.144  \n",
       "10                0.680                  0.217  \n",
       "11                1.364                  0.174  "
      ],
      "text/html": "<div>\n<style scoped>\n    .dataframe tbody tr th:only-of-type {\n        vertical-align: middle;\n    }\n\n    .dataframe tbody tr th {\n        vertical-align: top;\n    }\n\n    .dataframe thead th {\n        text-align: right;\n    }\n</style>\n<table border=\"1\" class=\"dataframe\">\n  <thead>\n    <tr style=\"text-align: right;\">\n      <th></th>\n      <th>CLIENTNUM</th>\n      <th>Attrition_Flag</th>\n      <th>Customer_Age</th>\n      <th>Gender</th>\n      <th>Dependent_count</th>\n      <th>Education_Level</th>\n      <th>Marital_Status</th>\n      <th>Income_Category</th>\n      <th>Card_Category</th>\n      <th>Months_on_book</th>\n      <th>Total_Relationship_Count</th>\n      <th>Months_Inactive_12_mon</th>\n      <th>Contacts_Count_12_mon</th>\n      <th>Credit_Limit</th>\n      <th>Total_Revolving_Bal</th>\n      <th>Avg_Open_To_Buy</th>\n      <th>Total_Amt_Chng_Q4_Q1</th>\n      <th>Total_Trans_Amt</th>\n      <th>Total_Trans_Ct</th>\n      <th>Total_Ct_Chng_Q4_Q1</th>\n      <th>Avg_Utilization_Ratio</th>\n    </tr>\n  </thead>\n  <tbody>\n    <tr>\n      <th>0</th>\n      <td>768805383</td>\n      <td>Existing Customer</td>\n      <td>45</td>\n      <td>M</td>\n      <td>3</td>\n      <td>High School</td>\n      <td>Married</td>\n      <td>$60K - $80K</td>\n      <td>Blue</td>\n      <td>39</td>\n      <td>5</td>\n      <td>1</td>\n      <td>3</td>\n      <td>12691.0</td>\n      <td>777</td>\n      <td>11914.0</td>\n      <td>1.335</td>\n      <td>1144</td>\n      <td>42</td>\n      <td>1.625</td>\n      <td>0.061</td>\n    </tr>\n    <tr>\n      <th>1</th>\n      <td>818770008</td>\n      <td>Existing Customer</td>\n      <td>49</td>\n      <td>F</td>\n      <td>5</td>\n      <td>Graduate</td>\n      <td>Single</td>\n      <td>Less than $40K</td>\n      <td>Blue</td>\n      <td>44</td>\n      <td>6</td>\n      <td>1</td>\n      <td>2</td>\n      <td>8256.0</td>\n      <td>864</td>\n      <td>7392.0</td>\n      <td>1.541</td>\n      <td>1291</td>\n      <td>33</td>\n      <td>3.714</td>\n      <td>0.105</td>\n    </tr>\n    <tr>\n      <th>2</th>\n      <td>713982108</td>\n      <td>Existing Customer</td>\n      <td>51</td>\n      <td>M</td>\n      <td>3</td>\n      <td>Graduate</td>\n      <td>Married</td>\n      <td>$80K - $120K</td>\n      <td>Blue</td>\n      <td>36</td>\n      <td>4</td>\n      <td>1</td>\n      <td>0</td>\n      <td>3418.0</td>\n      <td>0</td>\n      <td>3418.0</td>\n      <td>2.594</td>\n      <td>1887</td>\n      <td>20</td>\n      <td>2.333</td>\n      <td>0.000</td>\n    </tr>\n    <tr>\n      <th>3</th>\n      <td>769911858</td>\n      <td>Existing Customer</td>\n      <td>40</td>\n      <td>F</td>\n      <td>4</td>\n      <td>High School</td>\n      <td>Unknown</td>\n      <td>Less than $40K</td>\n      <td>Blue</td>\n      <td>34</td>\n      <td>3</td>\n      <td>4</td>\n      <td>1</td>\n      <td>3313.0</td>\n      <td>2517</td>\n      <td>796.0</td>\n      <td>1.405</td>\n      <td>1171</td>\n      <td>20</td>\n      <td>2.333</td>\n      <td>0.760</td>\n    </tr>\n    <tr>\n      <th>4</th>\n      <td>709106358</td>\n      <td>Existing Customer</td>\n      <td>40</td>\n      <td>M</td>\n      <td>3</td>\n      <td>Uneducated</td>\n      <td>Married</td>\n      <td>$60K - $80K</td>\n      <td>Blue</td>\n      <td>21</td>\n      <td>5</td>\n      <td>1</td>\n      <td>0</td>\n      <td>4716.0</td>\n      <td>0</td>\n      <td>4716.0</td>\n      <td>2.175</td>\n      <td>816</td>\n      <td>28</td>\n      <td>2.500</td>\n      <td>0.000</td>\n    </tr>\n    <tr>\n      <th>5</th>\n      <td>713061558</td>\n      <td>Existing Customer</td>\n      <td>44</td>\n      <td>M</td>\n      <td>2</td>\n      <td>Graduate</td>\n      <td>Married</td>\n      <td>$40K - $60K</td>\n      <td>Blue</td>\n      <td>36</td>\n      <td>3</td>\n      <td>1</td>\n      <td>2</td>\n      <td>4010.0</td>\n      <td>1247</td>\n      <td>2763.0</td>\n      <td>1.376</td>\n      <td>1088</td>\n      <td>24</td>\n      <td>0.846</td>\n      <td>0.311</td>\n    </tr>\n    <tr>\n      <th>6</th>\n      <td>810347208</td>\n      <td>Existing Customer</td>\n      <td>51</td>\n      <td>M</td>\n      <td>4</td>\n      <td>Unknown</td>\n      <td>Married</td>\n      <td>$120K +</td>\n      <td>Gold</td>\n      <td>46</td>\n      <td>6</td>\n      <td>1</td>\n      <td>3</td>\n      <td>34516.0</td>\n      <td>2264</td>\n      <td>32252.0</td>\n      <td>1.975</td>\n      <td>1330</td>\n      <td>31</td>\n      <td>0.722</td>\n      <td>0.066</td>\n    </tr>\n    <tr>\n      <th>7</th>\n      <td>818906208</td>\n      <td>Existing Customer</td>\n      <td>32</td>\n      <td>M</td>\n      <td>0</td>\n      <td>High School</td>\n      <td>Unknown</td>\n      <td>$60K - $80K</td>\n      <td>Silver</td>\n      <td>27</td>\n      <td>2</td>\n      <td>2</td>\n      <td>2</td>\n      <td>29081.0</td>\n      <td>1396</td>\n      <td>27685.0</td>\n      <td>2.204</td>\n      <td>1538</td>\n      <td>36</td>\n      <td>0.714</td>\n      <td>0.048</td>\n    </tr>\n    <tr>\n      <th>8</th>\n      <td>710930508</td>\n      <td>Existing Customer</td>\n      <td>37</td>\n      <td>M</td>\n      <td>3</td>\n      <td>Uneducated</td>\n      <td>Single</td>\n      <td>$60K - $80K</td>\n      <td>Blue</td>\n      <td>36</td>\n      <td>5</td>\n      <td>2</td>\n      <td>0</td>\n      <td>22352.0</td>\n      <td>2517</td>\n      <td>19835.0</td>\n      <td>3.355</td>\n      <td>1350</td>\n      <td>24</td>\n      <td>1.182</td>\n      <td>0.113</td>\n    </tr>\n    <tr>\n      <th>9</th>\n      <td>719661558</td>\n      <td>Existing Customer</td>\n      <td>48</td>\n      <td>M</td>\n      <td>2</td>\n      <td>Graduate</td>\n      <td>Single</td>\n      <td>$80K - $120K</td>\n      <td>Blue</td>\n      <td>36</td>\n      <td>6</td>\n      <td>3</td>\n      <td>3</td>\n      <td>11656.0</td>\n      <td>1677</td>\n      <td>9979.0</td>\n      <td>1.524</td>\n      <td>1441</td>\n      <td>32</td>\n      <td>0.882</td>\n      <td>0.144</td>\n    </tr>\n    <tr>\n      <th>10</th>\n      <td>708790833</td>\n      <td>Existing Customer</td>\n      <td>42</td>\n      <td>M</td>\n      <td>5</td>\n      <td>Uneducated</td>\n      <td>Unknown</td>\n      <td>$120K +</td>\n      <td>Blue</td>\n      <td>31</td>\n      <td>5</td>\n      <td>3</td>\n      <td>2</td>\n      <td>6748.0</td>\n      <td>1467</td>\n      <td>5281.0</td>\n      <td>0.831</td>\n      <td>1201</td>\n      <td>42</td>\n      <td>0.680</td>\n      <td>0.217</td>\n    </tr>\n    <tr>\n      <th>11</th>\n      <td>710821833</td>\n      <td>Existing Customer</td>\n      <td>65</td>\n      <td>M</td>\n      <td>1</td>\n      <td>Unknown</td>\n      <td>Married</td>\n      <td>$40K - $60K</td>\n      <td>Blue</td>\n      <td>54</td>\n      <td>6</td>\n      <td>2</td>\n      <td>3</td>\n      <td>9095.0</td>\n      <td>1587</td>\n      <td>7508.0</td>\n      <td>1.433</td>\n      <td>1314</td>\n      <td>26</td>\n      <td>1.364</td>\n      <td>0.174</td>\n    </tr>\n  </tbody>\n</table>\n</div>"
     },
     "metadata": {},
     "execution_count": 4
    }
   ],
   "source": [
    "data.head(12)"
   ]
  },
  {
   "source": [
    "# EDA"
   ],
   "cell_type": "markdown",
   "metadata": {}
  },
  {
   "cell_type": "code",
   "execution_count": 5,
   "id": "bibliographic-prisoner",
   "metadata": {},
   "outputs": [],
   "source": [
    "eda_data = data.copy() # Copying data for EDA"
   ]
  },
  {
   "cell_type": "code",
   "execution_count": 6,
   "id": "neural-taste",
   "metadata": {},
   "outputs": [
    {
     "output_type": "execute_result",
     "data": {
      "text/plain": [
       "   CLIENTNUM     Attrition_Flag  Customer_Age Gender  Dependent_count  \\\n",
       "0  768805383  Existing Customer            45      M                3   \n",
       "1  818770008  Existing Customer            49      F                5   \n",
       "2  713982108  Existing Customer            51      M                3   \n",
       "3  769911858  Existing Customer            40      F                4   \n",
       "4  709106358  Existing Customer            40      M                3   \n",
       "\n",
       "  Education_Level Marital_Status Income_Category Card_Category  \\\n",
       "0     High School        Married     $60K - $80K          Blue   \n",
       "1        Graduate         Single  Less than $40K          Blue   \n",
       "2        Graduate        Married    $80K - $120K          Blue   \n",
       "3     High School        Unknown  Less than $40K          Blue   \n",
       "4      Uneducated        Married     $60K - $80K          Blue   \n",
       "\n",
       "   Months_on_book  Total_Relationship_Count  Months_Inactive_12_mon  \\\n",
       "0              39                         5                       1   \n",
       "1              44                         6                       1   \n",
       "2              36                         4                       1   \n",
       "3              34                         3                       4   \n",
       "4              21                         5                       1   \n",
       "\n",
       "   Contacts_Count_12_mon  Credit_Limit  Total_Revolving_Bal  Avg_Open_To_Buy  \\\n",
       "0                      3       12691.0                  777          11914.0   \n",
       "1                      2        8256.0                  864           7392.0   \n",
       "2                      0        3418.0                    0           3418.0   \n",
       "3                      1        3313.0                 2517            796.0   \n",
       "4                      0        4716.0                    0           4716.0   \n",
       "\n",
       "   Total_Amt_Chng_Q4_Q1  Total_Trans_Amt  Total_Trans_Ct  Total_Ct_Chng_Q4_Q1  \\\n",
       "0                 1.335             1144              42                1.625   \n",
       "1                 1.541             1291              33                3.714   \n",
       "2                 2.594             1887              20                2.333   \n",
       "3                 1.405             1171              20                2.333   \n",
       "4                 2.175              816              28                2.500   \n",
       "\n",
       "   Avg_Utilization_Ratio  \n",
       "0                  0.061  \n",
       "1                  0.105  \n",
       "2                  0.000  \n",
       "3                  0.760  \n",
       "4                  0.000  "
      ],
      "text/html": "<div>\n<style scoped>\n    .dataframe tbody tr th:only-of-type {\n        vertical-align: middle;\n    }\n\n    .dataframe tbody tr th {\n        vertical-align: top;\n    }\n\n    .dataframe thead th {\n        text-align: right;\n    }\n</style>\n<table border=\"1\" class=\"dataframe\">\n  <thead>\n    <tr style=\"text-align: right;\">\n      <th></th>\n      <th>CLIENTNUM</th>\n      <th>Attrition_Flag</th>\n      <th>Customer_Age</th>\n      <th>Gender</th>\n      <th>Dependent_count</th>\n      <th>Education_Level</th>\n      <th>Marital_Status</th>\n      <th>Income_Category</th>\n      <th>Card_Category</th>\n      <th>Months_on_book</th>\n      <th>Total_Relationship_Count</th>\n      <th>Months_Inactive_12_mon</th>\n      <th>Contacts_Count_12_mon</th>\n      <th>Credit_Limit</th>\n      <th>Total_Revolving_Bal</th>\n      <th>Avg_Open_To_Buy</th>\n      <th>Total_Amt_Chng_Q4_Q1</th>\n      <th>Total_Trans_Amt</th>\n      <th>Total_Trans_Ct</th>\n      <th>Total_Ct_Chng_Q4_Q1</th>\n      <th>Avg_Utilization_Ratio</th>\n    </tr>\n  </thead>\n  <tbody>\n    <tr>\n      <th>0</th>\n      <td>768805383</td>\n      <td>Existing Customer</td>\n      <td>45</td>\n      <td>M</td>\n      <td>3</td>\n      <td>High School</td>\n      <td>Married</td>\n      <td>$60K - $80K</td>\n      <td>Blue</td>\n      <td>39</td>\n      <td>5</td>\n      <td>1</td>\n      <td>3</td>\n      <td>12691.0</td>\n      <td>777</td>\n      <td>11914.0</td>\n      <td>1.335</td>\n      <td>1144</td>\n      <td>42</td>\n      <td>1.625</td>\n      <td>0.061</td>\n    </tr>\n    <tr>\n      <th>1</th>\n      <td>818770008</td>\n      <td>Existing Customer</td>\n      <td>49</td>\n      <td>F</td>\n      <td>5</td>\n      <td>Graduate</td>\n      <td>Single</td>\n      <td>Less than $40K</td>\n      <td>Blue</td>\n      <td>44</td>\n      <td>6</td>\n      <td>1</td>\n      <td>2</td>\n      <td>8256.0</td>\n      <td>864</td>\n      <td>7392.0</td>\n      <td>1.541</td>\n      <td>1291</td>\n      <td>33</td>\n      <td>3.714</td>\n      <td>0.105</td>\n    </tr>\n    <tr>\n      <th>2</th>\n      <td>713982108</td>\n      <td>Existing Customer</td>\n      <td>51</td>\n      <td>M</td>\n      <td>3</td>\n      <td>Graduate</td>\n      <td>Married</td>\n      <td>$80K - $120K</td>\n      <td>Blue</td>\n      <td>36</td>\n      <td>4</td>\n      <td>1</td>\n      <td>0</td>\n      <td>3418.0</td>\n      <td>0</td>\n      <td>3418.0</td>\n      <td>2.594</td>\n      <td>1887</td>\n      <td>20</td>\n      <td>2.333</td>\n      <td>0.000</td>\n    </tr>\n    <tr>\n      <th>3</th>\n      <td>769911858</td>\n      <td>Existing Customer</td>\n      <td>40</td>\n      <td>F</td>\n      <td>4</td>\n      <td>High School</td>\n      <td>Unknown</td>\n      <td>Less than $40K</td>\n      <td>Blue</td>\n      <td>34</td>\n      <td>3</td>\n      <td>4</td>\n      <td>1</td>\n      <td>3313.0</td>\n      <td>2517</td>\n      <td>796.0</td>\n      <td>1.405</td>\n      <td>1171</td>\n      <td>20</td>\n      <td>2.333</td>\n      <td>0.760</td>\n    </tr>\n    <tr>\n      <th>4</th>\n      <td>709106358</td>\n      <td>Existing Customer</td>\n      <td>40</td>\n      <td>M</td>\n      <td>3</td>\n      <td>Uneducated</td>\n      <td>Married</td>\n      <td>$60K - $80K</td>\n      <td>Blue</td>\n      <td>21</td>\n      <td>5</td>\n      <td>1</td>\n      <td>0</td>\n      <td>4716.0</td>\n      <td>0</td>\n      <td>4716.0</td>\n      <td>2.175</td>\n      <td>816</td>\n      <td>28</td>\n      <td>2.500</td>\n      <td>0.000</td>\n    </tr>\n  </tbody>\n</table>\n</div>"
     },
     "metadata": {},
     "execution_count": 6
    }
   ],
   "source": [
    "eda_data.head()"
   ]
  },
  {
   "cell_type": "code",
   "execution_count": 7,
   "id": "guilty-patent",
   "metadata": {},
   "outputs": [
    {
     "output_type": "execute_result",
     "data": {
      "text/plain": [
       "CLIENTNUM                   0\n",
       "Attrition_Flag              0\n",
       "Customer_Age                0\n",
       "Gender                      0\n",
       "Dependent_count             0\n",
       "Education_Level             0\n",
       "Marital_Status              0\n",
       "Income_Category             0\n",
       "Card_Category               0\n",
       "Months_on_book              0\n",
       "Total_Relationship_Count    0\n",
       "Months_Inactive_12_mon      0\n",
       "Contacts_Count_12_mon       0\n",
       "Credit_Limit                0\n",
       "Total_Revolving_Bal         0\n",
       "Avg_Open_To_Buy             0\n",
       "Total_Amt_Chng_Q4_Q1        0\n",
       "Total_Trans_Amt             0\n",
       "Total_Trans_Ct              0\n",
       "Total_Ct_Chng_Q4_Q1         0\n",
       "Avg_Utilization_Ratio       0\n",
       "dtype: int64"
      ]
     },
     "metadata": {},
     "execution_count": 7
    }
   ],
   "source": [
    "# Null Values\n",
    "eda_data.isnull().sum()"
   ]
  },
  {
   "cell_type": "code",
   "execution_count": 8,
   "metadata": {},
   "outputs": [],
   "source": [
    "# Separate Categorical data\n",
    "# eda_data_cat = eda_data[[\"Attrition_Flag\", \"Gender\", \"Education_Level\", \"Marital_Status\", \"Card_Category\"]]\n",
    "# eda_data.drop(eda_data_cat.columns, axis = 1, inplace = True)"
   ]
  },
  {
   "cell_type": "code",
   "execution_count": 9,
   "metadata": {},
   "outputs": [
    {
     "output_type": "execute_result",
     "data": {
      "text/plain": [
       "          CLIENTNUM  Customer_Age  Dependent_count  Months_on_book  \\\n",
       "count  1.012700e+04  10127.000000     10127.000000    10127.000000   \n",
       "mean   7.391776e+08     46.325960         2.346203       35.928409   \n",
       "std    3.690378e+07      8.016814         1.298908        7.986416   \n",
       "min    7.080821e+08     26.000000         0.000000       13.000000   \n",
       "25%    7.130368e+08     41.000000         1.000000       31.000000   \n",
       "50%    7.179264e+08     46.000000         2.000000       36.000000   \n",
       "75%    7.731435e+08     52.000000         3.000000       40.000000   \n",
       "max    8.283431e+08     73.000000         5.000000       56.000000   \n",
       "\n",
       "       Total_Relationship_Count  Months_Inactive_12_mon  \\\n",
       "count              10127.000000            10127.000000   \n",
       "mean                   3.812580                2.341167   \n",
       "std                    1.554408                1.010622   \n",
       "min                    1.000000                0.000000   \n",
       "25%                    3.000000                2.000000   \n",
       "50%                    4.000000                2.000000   \n",
       "75%                    5.000000                3.000000   \n",
       "max                    6.000000                6.000000   \n",
       "\n",
       "       Contacts_Count_12_mon  Credit_Limit  Total_Revolving_Bal  \\\n",
       "count           10127.000000  10127.000000         10127.000000   \n",
       "mean                2.455317   8631.953698          1162.814061   \n",
       "std                 1.106225   9088.776650           814.987335   \n",
       "min                 0.000000   1438.300000             0.000000   \n",
       "25%                 2.000000   2555.000000           359.000000   \n",
       "50%                 2.000000   4549.000000          1276.000000   \n",
       "75%                 3.000000  11067.500000          1784.000000   \n",
       "max                 6.000000  34516.000000          2517.000000   \n",
       "\n",
       "       Avg_Open_To_Buy  Total_Amt_Chng_Q4_Q1  Total_Trans_Amt  Total_Trans_Ct  \\\n",
       "count     10127.000000          10127.000000     10127.000000    10127.000000   \n",
       "mean       7469.139637              0.759941      4404.086304       64.858695   \n",
       "std        9090.685324              0.219207      3397.129254       23.472570   \n",
       "min           3.000000              0.000000       510.000000       10.000000   \n",
       "25%        1324.500000              0.631000      2155.500000       45.000000   \n",
       "50%        3474.000000              0.736000      3899.000000       67.000000   \n",
       "75%        9859.000000              0.859000      4741.000000       81.000000   \n",
       "max       34516.000000              3.397000     18484.000000      139.000000   \n",
       "\n",
       "       Total_Ct_Chng_Q4_Q1  Avg_Utilization_Ratio  \n",
       "count         10127.000000           10127.000000  \n",
       "mean              0.712222               0.274894  \n",
       "std               0.238086               0.275691  \n",
       "min               0.000000               0.000000  \n",
       "25%               0.582000               0.023000  \n",
       "50%               0.702000               0.176000  \n",
       "75%               0.818000               0.503000  \n",
       "max               3.714000               0.999000  "
      ],
      "text/html": "<div>\n<style scoped>\n    .dataframe tbody tr th:only-of-type {\n        vertical-align: middle;\n    }\n\n    .dataframe tbody tr th {\n        vertical-align: top;\n    }\n\n    .dataframe thead th {\n        text-align: right;\n    }\n</style>\n<table border=\"1\" class=\"dataframe\">\n  <thead>\n    <tr style=\"text-align: right;\">\n      <th></th>\n      <th>CLIENTNUM</th>\n      <th>Customer_Age</th>\n      <th>Dependent_count</th>\n      <th>Months_on_book</th>\n      <th>Total_Relationship_Count</th>\n      <th>Months_Inactive_12_mon</th>\n      <th>Contacts_Count_12_mon</th>\n      <th>Credit_Limit</th>\n      <th>Total_Revolving_Bal</th>\n      <th>Avg_Open_To_Buy</th>\n      <th>Total_Amt_Chng_Q4_Q1</th>\n      <th>Total_Trans_Amt</th>\n      <th>Total_Trans_Ct</th>\n      <th>Total_Ct_Chng_Q4_Q1</th>\n      <th>Avg_Utilization_Ratio</th>\n    </tr>\n  </thead>\n  <tbody>\n    <tr>\n      <th>count</th>\n      <td>1.012700e+04</td>\n      <td>10127.000000</td>\n      <td>10127.000000</td>\n      <td>10127.000000</td>\n      <td>10127.000000</td>\n      <td>10127.000000</td>\n      <td>10127.000000</td>\n      <td>10127.000000</td>\n      <td>10127.000000</td>\n      <td>10127.000000</td>\n      <td>10127.000000</td>\n      <td>10127.000000</td>\n      <td>10127.000000</td>\n      <td>10127.000000</td>\n      <td>10127.000000</td>\n    </tr>\n    <tr>\n      <th>mean</th>\n      <td>7.391776e+08</td>\n      <td>46.325960</td>\n      <td>2.346203</td>\n      <td>35.928409</td>\n      <td>3.812580</td>\n      <td>2.341167</td>\n      <td>2.455317</td>\n      <td>8631.953698</td>\n      <td>1162.814061</td>\n      <td>7469.139637</td>\n      <td>0.759941</td>\n      <td>4404.086304</td>\n      <td>64.858695</td>\n      <td>0.712222</td>\n      <td>0.274894</td>\n    </tr>\n    <tr>\n      <th>std</th>\n      <td>3.690378e+07</td>\n      <td>8.016814</td>\n      <td>1.298908</td>\n      <td>7.986416</td>\n      <td>1.554408</td>\n      <td>1.010622</td>\n      <td>1.106225</td>\n      <td>9088.776650</td>\n      <td>814.987335</td>\n      <td>9090.685324</td>\n      <td>0.219207</td>\n      <td>3397.129254</td>\n      <td>23.472570</td>\n      <td>0.238086</td>\n      <td>0.275691</td>\n    </tr>\n    <tr>\n      <th>min</th>\n      <td>7.080821e+08</td>\n      <td>26.000000</td>\n      <td>0.000000</td>\n      <td>13.000000</td>\n      <td>1.000000</td>\n      <td>0.000000</td>\n      <td>0.000000</td>\n      <td>1438.300000</td>\n      <td>0.000000</td>\n      <td>3.000000</td>\n      <td>0.000000</td>\n      <td>510.000000</td>\n      <td>10.000000</td>\n      <td>0.000000</td>\n      <td>0.000000</td>\n    </tr>\n    <tr>\n      <th>25%</th>\n      <td>7.130368e+08</td>\n      <td>41.000000</td>\n      <td>1.000000</td>\n      <td>31.000000</td>\n      <td>3.000000</td>\n      <td>2.000000</td>\n      <td>2.000000</td>\n      <td>2555.000000</td>\n      <td>359.000000</td>\n      <td>1324.500000</td>\n      <td>0.631000</td>\n      <td>2155.500000</td>\n      <td>45.000000</td>\n      <td>0.582000</td>\n      <td>0.023000</td>\n    </tr>\n    <tr>\n      <th>50%</th>\n      <td>7.179264e+08</td>\n      <td>46.000000</td>\n      <td>2.000000</td>\n      <td>36.000000</td>\n      <td>4.000000</td>\n      <td>2.000000</td>\n      <td>2.000000</td>\n      <td>4549.000000</td>\n      <td>1276.000000</td>\n      <td>3474.000000</td>\n      <td>0.736000</td>\n      <td>3899.000000</td>\n      <td>67.000000</td>\n      <td>0.702000</td>\n      <td>0.176000</td>\n    </tr>\n    <tr>\n      <th>75%</th>\n      <td>7.731435e+08</td>\n      <td>52.000000</td>\n      <td>3.000000</td>\n      <td>40.000000</td>\n      <td>5.000000</td>\n      <td>3.000000</td>\n      <td>3.000000</td>\n      <td>11067.500000</td>\n      <td>1784.000000</td>\n      <td>9859.000000</td>\n      <td>0.859000</td>\n      <td>4741.000000</td>\n      <td>81.000000</td>\n      <td>0.818000</td>\n      <td>0.503000</td>\n    </tr>\n    <tr>\n      <th>max</th>\n      <td>8.283431e+08</td>\n      <td>73.000000</td>\n      <td>5.000000</td>\n      <td>56.000000</td>\n      <td>6.000000</td>\n      <td>6.000000</td>\n      <td>6.000000</td>\n      <td>34516.000000</td>\n      <td>2517.000000</td>\n      <td>34516.000000</td>\n      <td>3.397000</td>\n      <td>18484.000000</td>\n      <td>139.000000</td>\n      <td>3.714000</td>\n      <td>0.999000</td>\n    </tr>\n  </tbody>\n</table>\n</div>"
     },
     "metadata": {},
     "execution_count": 9
    }
   ],
   "source": [
    "eda_data.describe()"
   ]
  },
  {
   "cell_type": "code",
   "execution_count": 10,
   "metadata": {},
   "outputs": [
    {
     "output_type": "stream",
     "name": "stdout",
     "text": [
      "<class 'pandas.core.frame.DataFrame'>\nRangeIndex: 10127 entries, 0 to 10126\nData columns (total 21 columns):\n #   Column                    Non-Null Count  Dtype  \n---  ------                    --------------  -----  \n 0   CLIENTNUM                 10127 non-null  int64  \n 1   Attrition_Flag            10127 non-null  object \n 2   Customer_Age              10127 non-null  int64  \n 3   Gender                    10127 non-null  object \n 4   Dependent_count           10127 non-null  int64  \n 5   Education_Level           10127 non-null  object \n 6   Marital_Status            10127 non-null  object \n 7   Income_Category           10127 non-null  object \n 8   Card_Category             10127 non-null  object \n 9   Months_on_book            10127 non-null  int64  \n 10  Total_Relationship_Count  10127 non-null  int64  \n 11  Months_Inactive_12_mon    10127 non-null  int64  \n 12  Contacts_Count_12_mon     10127 non-null  int64  \n 13  Credit_Limit              10127 non-null  float64\n 14  Total_Revolving_Bal       10127 non-null  int64  \n 15  Avg_Open_To_Buy           10127 non-null  float64\n 16  Total_Amt_Chng_Q4_Q1      10127 non-null  float64\n 17  Total_Trans_Amt           10127 non-null  int64  \n 18  Total_Trans_Ct            10127 non-null  int64  \n 19  Total_Ct_Chng_Q4_Q1       10127 non-null  float64\n 20  Avg_Utilization_Ratio     10127 non-null  float64\ndtypes: float64(5), int64(10), object(6)\nmemory usage: 1.6+ MB\n"
     ]
    }
   ],
   "source": [
    "eda_data.info()"
   ]
  },
  {
   "cell_type": "code",
   "execution_count": 11,
   "metadata": {},
   "outputs": [
    {
     "output_type": "stream",
     "name": "stdout",
     "text": [
      "Value Counts Percentage for Attrition_Flag\n\n\nExisting Customer    83.934038\nAttrited Customer    16.065962\nName: Attrition_Flag, dtype: float64\n---------------------\nValue Counts Percentage for Gender\n\n\nF    52.908068\nM    47.091932\nName: Gender, dtype: float64\n---------------------\nValue Counts Percentage for Education_Level\n\n\nGraduate         30.887726\nHigh School      19.877555\nUnknown          14.999506\nUneducated       14.683519\nCollege          10.002962\nPost-Graduate     5.095290\nDoctorate         4.453441\nName: Education_Level, dtype: float64\n---------------------\nValue Counts Percentage for Marital_Status\n\n\nMarried     46.282216\nSingle      38.935519\nUnknown      7.396070\nDivorced     7.386195\nName: Marital_Status, dtype: float64\n---------------------\nValue Counts Percentage for Card_Category\n\n\nBlue        93.176656\nSilver       5.480399\nGold         1.145453\nPlatinum     0.197492\nName: Card_Category, dtype: float64\n---------------------\n"
     ]
    }
   ],
   "source": [
    "# Value counts\n",
    "cat_columns = eda_data[[\"Attrition_Flag\", \"Gender\", \"Education_Level\", \"Marital_Status\", \"Card_Category\"]]\n",
    "\n",
    "value_counts = ValueCounts(cat_columns, eda_data)\n",
    "#value_counts.valcounts_multiple_cat_cols()\n",
    "\n",
    "value_counts.valcounts_percentage()"
   ]
  },
  {
   "source": [
    "### Observations  \n",
    "\n",
    "1. Attrited Customers percentage is 16.05% which means that predicting the churned customers would be a bit difficult.\n",
    "2. Gender distribution seems to be okay as there is a leeway of 5%. Another interesting thing here is that the percentage of Females is more than\n",
    "that of males. Generally it would be other way around. There is no proof as such to back my claim here, just emperical.\n",
    "3. Coming to the education level of the customers, majority CreditCard users seems to be Graduates. Next comes High School. Interesting thing to note here is\n",
    "PG and Doctorate levels of education occupy a total of 10%. This might be due to the fact that the dataset is small\n",
    "4. Majority seems to be using Blue Cards."
   ],
   "cell_type": "markdown",
   "metadata": {}
  },
  {
   "source": [
    "## Visualizations"
   ],
   "cell_type": "markdown",
   "metadata": {}
  },
  {
   "cell_type": "code",
   "execution_count": 33,
   "metadata": {},
   "outputs": [
    {
     "output_type": "display_data",
     "data": {
      "text/plain": "<Figure size 432x288 with 1 Axes>",
      "image/svg+xml": "<?xml version=\"1.0\" encoding=\"utf-8\" standalone=\"no\"?>\r\n<!DOCTYPE svg PUBLIC \"-//W3C//DTD SVG 1.1//EN\"\r\n  \"http://www.w3.org/Graphics/SVG/1.1/DTD/svg11.dtd\">\r\n<!-- Created with matplotlib (https://matplotlib.org/) -->\r\n<svg height=\"261.486875pt\" version=\"1.1\" viewBox=\"0 0 391.589062 261.486875\" width=\"391.589062pt\" xmlns=\"http://www.w3.org/2000/svg\" xmlns:xlink=\"http://www.w3.org/1999/xlink\">\r\n <metadata>\r\n  <rdf:RDF xmlns:cc=\"http://creativecommons.org/ns#\" xmlns:dc=\"http://purl.org/dc/elements/1.1/\" xmlns:rdf=\"http://www.w3.org/1999/02/22-rdf-syntax-ns#\">\r\n   <cc:Work>\r\n    <dc:type rdf:resource=\"http://purl.org/dc/dcmitype/StillImage\"/>\r\n    <dc:date>2021-03-07T11:01:21.242220</dc:date>\r\n    <dc:format>image/svg+xml</dc:format>\r\n    <dc:creator>\r\n     <cc:Agent>\r\n      <dc:title>Matplotlib v3.3.3, https://matplotlib.org/</dc:title>\r\n     </cc:Agent>\r\n    </dc:creator>\r\n   </cc:Work>\r\n  </rdf:RDF>\r\n </metadata>\r\n <defs>\r\n  <style type=\"text/css\">*{stroke-linecap:butt;stroke-linejoin:round;}</style>\r\n </defs>\r\n <g id=\"figure_1\">\r\n  <g id=\"patch_1\">\r\n   <path d=\"M 0 261.486875 \r\nL 391.589062 261.486875 \r\nL 391.589062 0 \r\nL 0 0 \r\nz\r\n\" style=\"fill:none;\"/>\r\n  </g>\r\n  <g id=\"axes_1\">\r\n   <g id=\"patch_2\">\r\n    <path d=\"M 49.589063 224.64 \r\nL 384.389063 224.64 \r\nL 384.389063 7.2 \r\nL 49.589063 7.2 \r\nz\r\n\" style=\"fill:#eaeaf2;\"/>\r\n   </g>\r\n   <g id=\"matplotlib.axis_1\">\r\n    <g id=\"xtick_1\">\r\n     <g id=\"text_1\">\r\n      <!-- Existing Customer -->\r\n      <g style=\"fill:#262626;\" transform=\"translate(92.721875 238.919687)scale(0.1 -0.1)\">\r\n       <defs>\r\n        <path d=\"M 7.90625 0 \r\nL 7.90625 71.578125 \r\nL 59.671875 71.578125 \r\nL 59.671875 63.140625 \r\nL 17.390625 63.140625 \r\nL 17.390625 41.21875 \r\nL 56.984375 41.21875 \r\nL 56.984375 32.8125 \r\nL 17.390625 32.8125 \r\nL 17.390625 8.453125 \r\nL 61.328125 8.453125 \r\nL 61.328125 0 \r\nz\r\n\" id=\"ArialMT-69\"/>\r\n        <path d=\"M 0.734375 0 \r\nL 19.671875 26.953125 \r\nL 2.15625 51.859375 \r\nL 13.140625 51.859375 \r\nL 21.09375 39.703125 \r\nQ 23.34375 36.234375 24.703125 33.890625 \r\nQ 26.859375 37.109375 28.65625 39.59375 \r\nL 37.40625 51.859375 \r\nL 47.90625 51.859375 \r\nL 29.984375 27.4375 \r\nL 49.265625 0 \r\nL 38.484375 0 \r\nL 27.828125 16.109375 \r\nL 25 20.453125 \r\nL 11.375 0 \r\nz\r\n\" id=\"ArialMT-120\"/>\r\n        <path d=\"M 6.640625 61.46875 \r\nL 6.640625 71.578125 \r\nL 15.4375 71.578125 \r\nL 15.4375 61.46875 \r\nz\r\nM 6.640625 0 \r\nL 6.640625 51.859375 \r\nL 15.4375 51.859375 \r\nL 15.4375 0 \r\nz\r\n\" id=\"ArialMT-105\"/>\r\n        <path d=\"M 3.078125 15.484375 \r\nL 11.765625 16.84375 \r\nQ 12.5 11.625 15.84375 8.84375 \r\nQ 19.1875 6.0625 25.203125 6.0625 \r\nQ 31.25 6.0625 34.171875 8.515625 \r\nQ 37.109375 10.984375 37.109375 14.3125 \r\nQ 37.109375 17.28125 34.515625 19 \r\nQ 32.71875 20.171875 25.53125 21.96875 \r\nQ 15.875 24.421875 12.140625 26.203125 \r\nQ 8.40625 27.984375 6.46875 31.125 \r\nQ 4.546875 34.28125 4.546875 38.09375 \r\nQ 4.546875 41.546875 6.125 44.5 \r\nQ 7.71875 47.46875 10.453125 49.421875 \r\nQ 12.5 50.921875 16.03125 51.96875 \r\nQ 19.578125 53.03125 23.640625 53.03125 \r\nQ 29.734375 53.03125 34.34375 51.265625 \r\nQ 38.96875 49.515625 41.15625 46.5 \r\nQ 43.359375 43.5 44.1875 38.484375 \r\nL 35.59375 37.3125 \r\nQ 35.015625 41.3125 32.203125 43.546875 \r\nQ 29.390625 45.796875 24.265625 45.796875 \r\nQ 18.21875 45.796875 15.625 43.796875 \r\nQ 13.03125 41.796875 13.03125 39.109375 \r\nQ 13.03125 37.40625 14.109375 36.03125 \r\nQ 15.1875 34.625 17.484375 33.6875 \r\nQ 18.796875 33.203125 25.25 31.453125 \r\nQ 34.578125 28.953125 38.25 27.359375 \r\nQ 41.9375 25.78125 44.03125 22.75 \r\nQ 46.140625 19.734375 46.140625 15.234375 \r\nQ 46.140625 10.84375 43.578125 6.953125 \r\nQ 41.015625 3.078125 36.171875 0.953125 \r\nQ 31.34375 -1.171875 25.25 -1.171875 \r\nQ 15.140625 -1.171875 9.84375 3.03125 \r\nQ 4.546875 7.234375 3.078125 15.484375 \r\nz\r\n\" id=\"ArialMT-115\"/>\r\n        <path d=\"M 25.78125 7.859375 \r\nL 27.046875 0.09375 \r\nQ 23.34375 -0.6875 20.40625 -0.6875 \r\nQ 15.625 -0.6875 12.984375 0.828125 \r\nQ 10.359375 2.34375 9.28125 4.8125 \r\nQ 8.203125 7.28125 8.203125 15.1875 \r\nL 8.203125 45.015625 \r\nL 1.765625 45.015625 \r\nL 1.765625 51.859375 \r\nL 8.203125 51.859375 \r\nL 8.203125 64.703125 \r\nL 16.9375 69.96875 \r\nL 16.9375 51.859375 \r\nL 25.78125 51.859375 \r\nL 25.78125 45.015625 \r\nL 16.9375 45.015625 \r\nL 16.9375 14.703125 \r\nQ 16.9375 10.9375 17.40625 9.859375 \r\nQ 17.875 8.796875 18.921875 8.15625 \r\nQ 19.96875 7.515625 21.921875 7.515625 \r\nQ 23.390625 7.515625 25.78125 7.859375 \r\nz\r\n\" id=\"ArialMT-116\"/>\r\n        <path d=\"M 6.59375 0 \r\nL 6.59375 51.859375 \r\nL 14.5 51.859375 \r\nL 14.5 44.484375 \r\nQ 20.21875 53.03125 31 53.03125 \r\nQ 35.6875 53.03125 39.625 51.34375 \r\nQ 43.5625 49.65625 45.515625 46.921875 \r\nQ 47.46875 44.1875 48.25 40.4375 \r\nQ 48.734375 37.984375 48.734375 31.890625 \r\nL 48.734375 0 \r\nL 39.9375 0 \r\nL 39.9375 31.546875 \r\nQ 39.9375 36.921875 38.90625 39.578125 \r\nQ 37.890625 42.234375 35.28125 43.8125 \r\nQ 32.671875 45.40625 29.15625 45.40625 \r\nQ 23.53125 45.40625 19.453125 41.84375 \r\nQ 15.375 38.28125 15.375 28.328125 \r\nL 15.375 0 \r\nz\r\n\" id=\"ArialMT-110\"/>\r\n        <path d=\"M 4.984375 -4.296875 \r\nL 13.53125 -5.5625 \r\nQ 14.0625 -9.515625 16.5 -11.328125 \r\nQ 19.78125 -13.765625 25.4375 -13.765625 \r\nQ 31.546875 -13.765625 34.859375 -11.328125 \r\nQ 38.1875 -8.890625 39.359375 -4.5 \r\nQ 40.046875 -1.8125 39.984375 6.78125 \r\nQ 34.234375 0 25.640625 0 \r\nQ 14.9375 0 9.078125 7.71875 \r\nQ 3.21875 15.4375 3.21875 26.21875 \r\nQ 3.21875 33.640625 5.90625 39.90625 \r\nQ 8.59375 46.1875 13.6875 49.609375 \r\nQ 18.796875 53.03125 25.6875 53.03125 \r\nQ 34.859375 53.03125 40.828125 45.609375 \r\nL 40.828125 51.859375 \r\nL 48.921875 51.859375 \r\nL 48.921875 7.03125 \r\nQ 48.921875 -5.078125 46.453125 -10.125 \r\nQ 44 -15.1875 38.640625 -18.109375 \r\nQ 33.296875 -21.046875 25.484375 -21.046875 \r\nQ 16.21875 -21.046875 10.5 -16.875 \r\nQ 4.78125 -12.703125 4.984375 -4.296875 \r\nz\r\nM 12.25 26.859375 \r\nQ 12.25 16.65625 16.296875 11.96875 \r\nQ 20.359375 7.28125 26.46875 7.28125 \r\nQ 32.515625 7.28125 36.609375 11.9375 \r\nQ 40.71875 16.609375 40.71875 26.5625 \r\nQ 40.71875 36.078125 36.5 40.90625 \r\nQ 32.28125 45.75 26.3125 45.75 \r\nQ 20.453125 45.75 16.34375 40.984375 \r\nQ 12.25 36.234375 12.25 26.859375 \r\nz\r\n\" id=\"ArialMT-103\"/>\r\n        <path id=\"ArialMT-32\"/>\r\n        <path d=\"M 58.796875 25.09375 \r\nL 68.265625 22.703125 \r\nQ 65.28125 11.03125 57.546875 4.90625 \r\nQ 49.8125 -1.21875 38.625 -1.21875 \r\nQ 27.046875 -1.21875 19.796875 3.484375 \r\nQ 12.546875 8.203125 8.765625 17.140625 \r\nQ 4.984375 26.078125 4.984375 36.328125 \r\nQ 4.984375 47.515625 9.25 55.828125 \r\nQ 13.53125 64.15625 21.40625 68.46875 \r\nQ 29.296875 72.796875 38.765625 72.796875 \r\nQ 49.515625 72.796875 56.828125 67.328125 \r\nQ 64.15625 61.859375 67.046875 51.953125 \r\nL 57.71875 49.75 \r\nQ 55.21875 57.5625 50.484375 61.125 \r\nQ 45.75 64.703125 38.578125 64.703125 \r\nQ 30.328125 64.703125 24.78125 60.734375 \r\nQ 19.234375 56.78125 16.984375 50.109375 \r\nQ 14.75 43.453125 14.75 36.375 \r\nQ 14.75 27.25 17.40625 20.4375 \r\nQ 20.0625 13.625 25.671875 10.25 \r\nQ 31.296875 6.890625 37.84375 6.890625 \r\nQ 45.796875 6.890625 51.3125 11.46875 \r\nQ 56.84375 16.0625 58.796875 25.09375 \r\nz\r\n\" id=\"ArialMT-67\"/>\r\n        <path d=\"M 40.578125 0 \r\nL 40.578125 7.625 \r\nQ 34.515625 -1.171875 24.125 -1.171875 \r\nQ 19.53125 -1.171875 15.546875 0.578125 \r\nQ 11.578125 2.34375 9.640625 5 \r\nQ 7.71875 7.671875 6.9375 11.53125 \r\nQ 6.390625 14.109375 6.390625 19.734375 \r\nL 6.390625 51.859375 \r\nL 15.1875 51.859375 \r\nL 15.1875 23.09375 \r\nQ 15.1875 16.21875 15.71875 13.8125 \r\nQ 16.546875 10.359375 19.234375 8.375 \r\nQ 21.921875 6.390625 25.875 6.390625 \r\nQ 29.828125 6.390625 33.296875 8.421875 \r\nQ 36.765625 10.453125 38.203125 13.9375 \r\nQ 39.65625 17.4375 39.65625 24.078125 \r\nL 39.65625 51.859375 \r\nL 48.4375 51.859375 \r\nL 48.4375 0 \r\nz\r\n\" id=\"ArialMT-117\"/>\r\n        <path d=\"M 3.328125 25.921875 \r\nQ 3.328125 40.328125 11.328125 47.265625 \r\nQ 18.015625 53.03125 27.640625 53.03125 \r\nQ 38.328125 53.03125 45.109375 46.015625 \r\nQ 51.90625 39.015625 51.90625 26.65625 \r\nQ 51.90625 16.65625 48.90625 10.90625 \r\nQ 45.90625 5.171875 40.15625 2 \r\nQ 34.421875 -1.171875 27.640625 -1.171875 \r\nQ 16.75 -1.171875 10.03125 5.8125 \r\nQ 3.328125 12.796875 3.328125 25.921875 \r\nz\r\nM 12.359375 25.921875 \r\nQ 12.359375 15.96875 16.703125 11.015625 \r\nQ 21.046875 6.0625 27.640625 6.0625 \r\nQ 34.1875 6.0625 38.53125 11.03125 \r\nQ 42.875 16.015625 42.875 26.21875 \r\nQ 42.875 35.84375 38.5 40.796875 \r\nQ 34.125 45.75 27.640625 45.75 \r\nQ 21.046875 45.75 16.703125 40.8125 \r\nQ 12.359375 35.890625 12.359375 25.921875 \r\nz\r\n\" id=\"ArialMT-111\"/>\r\n        <path d=\"M 6.59375 0 \r\nL 6.59375 51.859375 \r\nL 14.453125 51.859375 \r\nL 14.453125 44.578125 \r\nQ 16.890625 48.390625 20.9375 50.703125 \r\nQ 25 53.03125 30.171875 53.03125 \r\nQ 35.9375 53.03125 39.625 50.640625 \r\nQ 43.3125 48.25 44.828125 43.953125 \r\nQ 50.984375 53.03125 60.84375 53.03125 \r\nQ 68.5625 53.03125 72.703125 48.75 \r\nQ 76.859375 44.484375 76.859375 35.59375 \r\nL 76.859375 0 \r\nL 68.109375 0 \r\nL 68.109375 32.671875 \r\nQ 68.109375 37.9375 67.25 40.25 \r\nQ 66.40625 42.578125 64.15625 43.984375 \r\nQ 61.921875 45.40625 58.890625 45.40625 \r\nQ 53.421875 45.40625 49.796875 41.765625 \r\nQ 46.1875 38.140625 46.1875 30.125 \r\nL 46.1875 0 \r\nL 37.40625 0 \r\nL 37.40625 33.6875 \r\nQ 37.40625 39.546875 35.25 42.46875 \r\nQ 33.109375 45.40625 28.21875 45.40625 \r\nQ 24.515625 45.40625 21.359375 43.453125 \r\nQ 18.21875 41.5 16.796875 37.734375 \r\nQ 15.375 33.984375 15.375 26.90625 \r\nL 15.375 0 \r\nz\r\n\" id=\"ArialMT-109\"/>\r\n        <path d=\"M 42.09375 16.703125 \r\nL 51.171875 15.578125 \r\nQ 49.03125 7.625 43.21875 3.21875 \r\nQ 37.40625 -1.171875 28.375 -1.171875 \r\nQ 17 -1.171875 10.328125 5.828125 \r\nQ 3.65625 12.84375 3.65625 25.484375 \r\nQ 3.65625 38.578125 10.390625 45.796875 \r\nQ 17.140625 53.03125 27.875 53.03125 \r\nQ 38.28125 53.03125 44.875 45.953125 \r\nQ 51.46875 38.875 51.46875 26.03125 \r\nQ 51.46875 25.25 51.421875 23.6875 \r\nL 12.75 23.6875 \r\nQ 13.234375 15.140625 17.578125 10.59375 \r\nQ 21.921875 6.0625 28.421875 6.0625 \r\nQ 33.25 6.0625 36.671875 8.59375 \r\nQ 40.09375 11.140625 42.09375 16.703125 \r\nz\r\nM 13.234375 30.90625 \r\nL 42.1875 30.90625 \r\nQ 41.609375 37.453125 38.875 40.71875 \r\nQ 34.671875 45.796875 27.984375 45.796875 \r\nQ 21.921875 45.796875 17.796875 41.75 \r\nQ 13.671875 37.703125 13.234375 30.90625 \r\nz\r\n\" id=\"ArialMT-101\"/>\r\n        <path d=\"M 6.5 0 \r\nL 6.5 51.859375 \r\nL 14.40625 51.859375 \r\nL 14.40625 44 \r\nQ 17.4375 49.515625 20 51.265625 \r\nQ 22.5625 53.03125 25.640625 53.03125 \r\nQ 30.078125 53.03125 34.671875 50.203125 \r\nL 31.640625 42.046875 \r\nQ 28.421875 43.953125 25.203125 43.953125 \r\nQ 22.3125 43.953125 20.015625 42.21875 \r\nQ 17.71875 40.484375 16.75 37.40625 \r\nQ 15.28125 32.71875 15.28125 27.15625 \r\nL 15.28125 0 \r\nz\r\n\" id=\"ArialMT-114\"/>\r\n       </defs>\r\n       <use xlink:href=\"#ArialMT-69\"/>\r\n       <use x=\"66.699219\" xlink:href=\"#ArialMT-120\"/>\r\n       <use x=\"116.699219\" xlink:href=\"#ArialMT-105\"/>\r\n       <use x=\"138.916016\" xlink:href=\"#ArialMT-115\"/>\r\n       <use x=\"188.916016\" xlink:href=\"#ArialMT-116\"/>\r\n       <use x=\"216.699219\" xlink:href=\"#ArialMT-105\"/>\r\n       <use x=\"238.916016\" xlink:href=\"#ArialMT-110\"/>\r\n       <use x=\"294.53125\" xlink:href=\"#ArialMT-103\"/>\r\n       <use x=\"350.146484\" xlink:href=\"#ArialMT-32\"/>\r\n       <use x=\"377.929688\" xlink:href=\"#ArialMT-67\"/>\r\n       <use x=\"450.146484\" xlink:href=\"#ArialMT-117\"/>\r\n       <use x=\"505.761719\" xlink:href=\"#ArialMT-115\"/>\r\n       <use x=\"555.761719\" xlink:href=\"#ArialMT-116\"/>\r\n       <use x=\"583.544922\" xlink:href=\"#ArialMT-111\"/>\r\n       <use x=\"639.160156\" xlink:href=\"#ArialMT-109\"/>\r\n       <use x=\"722.460938\" xlink:href=\"#ArialMT-101\"/>\r\n       <use x=\"778.076172\" xlink:href=\"#ArialMT-114\"/>\r\n      </g>\r\n     </g>\r\n    </g>\r\n    <g id=\"xtick_2\">\r\n     <g id=\"text_2\">\r\n      <!-- Attrited Customer -->\r\n      <g style=\"fill:#262626;\" transform=\"translate(261.789844 238.797812)scale(0.1 -0.1)\">\r\n       <defs>\r\n        <path d=\"M -0.140625 0 \r\nL 27.34375 71.578125 \r\nL 37.546875 71.578125 \r\nL 66.84375 0 \r\nL 56.0625 0 \r\nL 47.703125 21.6875 \r\nL 17.78125 21.6875 \r\nL 9.90625 0 \r\nz\r\nM 20.515625 29.390625 \r\nL 44.78125 29.390625 \r\nL 37.3125 49.21875 \r\nQ 33.890625 58.25 32.234375 64.0625 \r\nQ 30.859375 57.171875 28.375 50.390625 \r\nz\r\n\" id=\"ArialMT-65\"/>\r\n        <path d=\"M 40.234375 0 \r\nL 40.234375 6.546875 \r\nQ 35.296875 -1.171875 25.734375 -1.171875 \r\nQ 19.53125 -1.171875 14.328125 2.25 \r\nQ 9.125 5.671875 6.265625 11.796875 \r\nQ 3.421875 17.921875 3.421875 25.875 \r\nQ 3.421875 33.640625 6 39.96875 \r\nQ 8.59375 46.296875 13.765625 49.65625 \r\nQ 18.953125 53.03125 25.34375 53.03125 \r\nQ 30.03125 53.03125 33.6875 51.046875 \r\nQ 37.359375 49.078125 39.65625 45.90625 \r\nL 39.65625 71.578125 \r\nL 48.390625 71.578125 \r\nL 48.390625 0 \r\nz\r\nM 12.453125 25.875 \r\nQ 12.453125 15.921875 16.640625 10.984375 \r\nQ 20.84375 6.0625 26.5625 6.0625 \r\nQ 32.328125 6.0625 36.34375 10.765625 \r\nQ 40.375 15.484375 40.375 25.140625 \r\nQ 40.375 35.796875 36.265625 40.765625 \r\nQ 32.171875 45.75 26.171875 45.75 \r\nQ 20.3125 45.75 16.375 40.96875 \r\nQ 12.453125 36.1875 12.453125 25.875 \r\nz\r\n\" id=\"ArialMT-100\"/>\r\n       </defs>\r\n       <use xlink:href=\"#ArialMT-65\"/>\r\n       <use x=\"66.699219\" xlink:href=\"#ArialMT-116\"/>\r\n       <use x=\"94.482422\" xlink:href=\"#ArialMT-116\"/>\r\n       <use x=\"122.265625\" xlink:href=\"#ArialMT-114\"/>\r\n       <use x=\"155.566406\" xlink:href=\"#ArialMT-105\"/>\r\n       <use x=\"177.783203\" xlink:href=\"#ArialMT-116\"/>\r\n       <use x=\"205.566406\" xlink:href=\"#ArialMT-101\"/>\r\n       <use x=\"261.181641\" xlink:href=\"#ArialMT-100\"/>\r\n       <use x=\"316.796875\" xlink:href=\"#ArialMT-32\"/>\r\n       <use x=\"344.580078\" xlink:href=\"#ArialMT-67\"/>\r\n       <use x=\"416.796875\" xlink:href=\"#ArialMT-117\"/>\r\n       <use x=\"472.412109\" xlink:href=\"#ArialMT-115\"/>\r\n       <use x=\"522.412109\" xlink:href=\"#ArialMT-116\"/>\r\n       <use x=\"550.195312\" xlink:href=\"#ArialMT-111\"/>\r\n       <use x=\"605.810547\" xlink:href=\"#ArialMT-109\"/>\r\n       <use x=\"689.111328\" xlink:href=\"#ArialMT-101\"/>\r\n       <use x=\"744.726562\" xlink:href=\"#ArialMT-114\"/>\r\n      </g>\r\n     </g>\r\n    </g>\r\n    <g id=\"text_3\">\r\n     <!-- Attrition_Flag -->\r\n     <g style=\"fill:#262626;\" transform=\"translate(187.532813 252.182187)scale(0.1 -0.1)\">\r\n      <defs>\r\n       <path d=\"M -1.515625 -19.875 \r\nL -1.515625 -13.53125 \r\nL 56.734375 -13.53125 \r\nL 56.734375 -19.875 \r\nz\r\n\" id=\"ArialMT-95\"/>\r\n       <path d=\"M 8.203125 0 \r\nL 8.203125 71.578125 \r\nL 56.5 71.578125 \r\nL 56.5 63.140625 \r\nL 17.671875 63.140625 \r\nL 17.671875 40.96875 \r\nL 51.265625 40.96875 \r\nL 51.265625 32.515625 \r\nL 17.671875 32.515625 \r\nL 17.671875 0 \r\nz\r\n\" id=\"ArialMT-70\"/>\r\n       <path d=\"M 6.390625 0 \r\nL 6.390625 71.578125 \r\nL 15.1875 71.578125 \r\nL 15.1875 0 \r\nz\r\n\" id=\"ArialMT-108\"/>\r\n       <path d=\"M 40.4375 6.390625 \r\nQ 35.546875 2.25 31.03125 0.53125 \r\nQ 26.515625 -1.171875 21.34375 -1.171875 \r\nQ 12.796875 -1.171875 8.203125 3 \r\nQ 3.609375 7.171875 3.609375 13.671875 \r\nQ 3.609375 17.484375 5.34375 20.625 \r\nQ 7.078125 23.78125 9.890625 25.6875 \r\nQ 12.703125 27.59375 16.21875 28.5625 \r\nQ 18.796875 29.25 24.03125 29.890625 \r\nQ 34.671875 31.15625 39.703125 32.90625 \r\nQ 39.75 34.71875 39.75 35.203125 \r\nQ 39.75 40.578125 37.25 42.78125 \r\nQ 33.890625 45.75 27.25 45.75 \r\nQ 21.046875 45.75 18.09375 43.578125 \r\nQ 15.140625 41.40625 13.71875 35.890625 \r\nL 5.125 37.0625 \r\nQ 6.296875 42.578125 8.984375 45.96875 \r\nQ 11.671875 49.359375 16.75 51.1875 \r\nQ 21.828125 53.03125 28.515625 53.03125 \r\nQ 35.15625 53.03125 39.296875 51.46875 \r\nQ 43.453125 49.90625 45.40625 47.53125 \r\nQ 47.359375 45.171875 48.140625 41.546875 \r\nQ 48.578125 39.3125 48.578125 33.453125 \r\nL 48.578125 21.734375 \r\nQ 48.578125 9.46875 49.140625 6.21875 \r\nQ 49.703125 2.984375 51.375 0 \r\nL 42.1875 0 \r\nQ 40.828125 2.734375 40.4375 6.390625 \r\nz\r\nM 39.703125 26.03125 \r\nQ 34.90625 24.078125 25.34375 22.703125 \r\nQ 19.921875 21.921875 17.671875 20.9375 \r\nQ 15.4375 19.96875 14.203125 18.09375 \r\nQ 12.984375 16.21875 12.984375 13.921875 \r\nQ 12.984375 10.40625 15.640625 8.0625 \r\nQ 18.3125 5.71875 23.4375 5.71875 \r\nQ 28.515625 5.71875 32.46875 7.9375 \r\nQ 36.421875 10.15625 38.28125 14.015625 \r\nQ 39.703125 17 39.703125 22.796875 \r\nz\r\n\" id=\"ArialMT-97\"/>\r\n      </defs>\r\n      <use xlink:href=\"#ArialMT-65\"/>\r\n      <use x=\"66.699219\" xlink:href=\"#ArialMT-116\"/>\r\n      <use x=\"94.482422\" xlink:href=\"#ArialMT-116\"/>\r\n      <use x=\"122.265625\" xlink:href=\"#ArialMT-114\"/>\r\n      <use x=\"155.566406\" xlink:href=\"#ArialMT-105\"/>\r\n      <use x=\"177.783203\" xlink:href=\"#ArialMT-116\"/>\r\n      <use x=\"205.566406\" xlink:href=\"#ArialMT-105\"/>\r\n      <use x=\"227.783203\" xlink:href=\"#ArialMT-111\"/>\r\n      <use x=\"283.398438\" xlink:href=\"#ArialMT-110\"/>\r\n      <use x=\"339.013672\" xlink:href=\"#ArialMT-95\"/>\r\n      <use x=\"394.628906\" xlink:href=\"#ArialMT-70\"/>\r\n      <use x=\"455.712891\" xlink:href=\"#ArialMT-108\"/>\r\n      <use x=\"477.929688\" xlink:href=\"#ArialMT-97\"/>\r\n      <use x=\"533.544922\" xlink:href=\"#ArialMT-103\"/>\r\n     </g>\r\n    </g>\r\n   </g>\r\n   <g id=\"matplotlib.axis_2\">\r\n    <g id=\"ytick_1\">\r\n     <g id=\"line2d_1\">\r\n      <path clip-path=\"url(#pa8d59225ff)\" d=\"M 49.589063 224.64 \r\nL 384.389063 224.64 \r\n\" style=\"fill:none;stroke:#ffffff;stroke-linecap:round;stroke-width:0.8;\"/>\r\n     </g>\r\n     <g id=\"text_4\">\r\n      <!-- 0 -->\r\n      <g style=\"fill:#262626;\" transform=\"translate(37.028125 228.218906)scale(0.1 -0.1)\">\r\n       <defs>\r\n        <path d=\"M 4.15625 35.296875 \r\nQ 4.15625 48 6.765625 55.734375 \r\nQ 9.375 63.484375 14.515625 67.671875 \r\nQ 19.671875 71.875 27.484375 71.875 \r\nQ 33.25 71.875 37.59375 69.546875 \r\nQ 41.9375 67.234375 44.765625 62.859375 \r\nQ 47.609375 58.5 49.21875 52.21875 \r\nQ 50.828125 45.953125 50.828125 35.296875 \r\nQ 50.828125 22.703125 48.234375 14.96875 \r\nQ 45.65625 7.234375 40.5 3 \r\nQ 35.359375 -1.21875 27.484375 -1.21875 \r\nQ 17.140625 -1.21875 11.234375 6.203125 \r\nQ 4.15625 15.140625 4.15625 35.296875 \r\nz\r\nM 13.1875 35.296875 \r\nQ 13.1875 17.671875 17.3125 11.828125 \r\nQ 21.4375 6 27.484375 6 \r\nQ 33.546875 6 37.671875 11.859375 \r\nQ 41.796875 17.71875 41.796875 35.296875 \r\nQ 41.796875 52.984375 37.671875 58.78125 \r\nQ 33.546875 64.59375 27.390625 64.59375 \r\nQ 21.34375 64.59375 17.71875 59.46875 \r\nQ 13.1875 52.9375 13.1875 35.296875 \r\nz\r\n\" id=\"ArialMT-48\"/>\r\n       </defs>\r\n       <use xlink:href=\"#ArialMT-48\"/>\r\n      </g>\r\n     </g>\r\n    </g>\r\n    <g id=\"ytick_2\">\r\n     <g id=\"line2d_2\">\r\n      <path clip-path=\"url(#pa8d59225ff)\" d=\"M 49.589063 177.872675 \r\nL 384.389063 177.872675 \r\n\" style=\"fill:none;stroke:#ffffff;stroke-linecap:round;stroke-width:0.8;\"/>\r\n     </g>\r\n     <g id=\"text_5\">\r\n      <!-- 1000 -->\r\n      <g style=\"fill:#262626;\" transform=\"translate(20.345313 181.451581)scale(0.1 -0.1)\">\r\n       <defs>\r\n        <path d=\"M 37.25 0 \r\nL 28.46875 0 \r\nL 28.46875 56 \r\nQ 25.296875 52.984375 20.140625 49.953125 \r\nQ 14.984375 46.921875 10.890625 45.40625 \r\nL 10.890625 53.90625 \r\nQ 18.265625 57.375 23.78125 62.296875 \r\nQ 29.296875 67.234375 31.59375 71.875 \r\nL 37.25 71.875 \r\nz\r\n\" id=\"ArialMT-49\"/>\r\n       </defs>\r\n       <use xlink:href=\"#ArialMT-49\"/>\r\n       <use x=\"55.615234\" xlink:href=\"#ArialMT-48\"/>\r\n       <use x=\"111.230469\" xlink:href=\"#ArialMT-48\"/>\r\n       <use x=\"166.845703\" xlink:href=\"#ArialMT-48\"/>\r\n      </g>\r\n     </g>\r\n    </g>\r\n    <g id=\"ytick_3\">\r\n     <g id=\"line2d_3\">\r\n      <path clip-path=\"url(#pa8d59225ff)\" d=\"M 49.589063 131.10535 \r\nL 384.389063 131.10535 \r\n\" style=\"fill:none;stroke:#ffffff;stroke-linecap:round;stroke-width:0.8;\"/>\r\n     </g>\r\n     <g id=\"text_6\">\r\n      <!-- 2000 -->\r\n      <g style=\"fill:#262626;\" transform=\"translate(20.345313 134.684257)scale(0.1 -0.1)\">\r\n       <defs>\r\n        <path d=\"M 50.34375 8.453125 \r\nL 50.34375 0 \r\nL 3.03125 0 \r\nQ 2.9375 3.171875 4.046875 6.109375 \r\nQ 5.859375 10.9375 9.828125 15.625 \r\nQ 13.8125 20.3125 21.34375 26.46875 \r\nQ 33.015625 36.03125 37.109375 41.625 \r\nQ 41.21875 47.21875 41.21875 52.203125 \r\nQ 41.21875 57.421875 37.46875 61 \r\nQ 33.734375 64.59375 27.734375 64.59375 \r\nQ 21.390625 64.59375 17.578125 60.78125 \r\nQ 13.765625 56.984375 13.71875 50.25 \r\nL 4.6875 51.171875 \r\nQ 5.609375 61.28125 11.65625 66.578125 \r\nQ 17.71875 71.875 27.9375 71.875 \r\nQ 38.234375 71.875 44.234375 66.15625 \r\nQ 50.25 60.453125 50.25 52 \r\nQ 50.25 47.703125 48.484375 43.546875 \r\nQ 46.734375 39.40625 42.65625 34.8125 \r\nQ 38.578125 30.21875 29.109375 22.21875 \r\nQ 21.1875 15.578125 18.9375 13.203125 \r\nQ 16.703125 10.84375 15.234375 8.453125 \r\nz\r\n\" id=\"ArialMT-50\"/>\r\n       </defs>\r\n       <use xlink:href=\"#ArialMT-50\"/>\r\n       <use x=\"55.615234\" xlink:href=\"#ArialMT-48\"/>\r\n       <use x=\"111.230469\" xlink:href=\"#ArialMT-48\"/>\r\n       <use x=\"166.845703\" xlink:href=\"#ArialMT-48\"/>\r\n      </g>\r\n     </g>\r\n    </g>\r\n    <g id=\"ytick_4\">\r\n     <g id=\"line2d_4\">\r\n      <path clip-path=\"url(#pa8d59225ff)\" d=\"M 49.589063 84.338026 \r\nL 384.389063 84.338026 \r\n\" style=\"fill:none;stroke:#ffffff;stroke-linecap:round;stroke-width:0.8;\"/>\r\n     </g>\r\n     <g id=\"text_7\">\r\n      <!-- 3000 -->\r\n      <g style=\"fill:#262626;\" transform=\"translate(20.345313 87.916932)scale(0.1 -0.1)\">\r\n       <defs>\r\n        <path d=\"M 4.203125 18.890625 \r\nL 12.984375 20.0625 \r\nQ 14.5 12.59375 18.140625 9.296875 \r\nQ 21.78125 6 27 6 \r\nQ 33.203125 6 37.46875 10.296875 \r\nQ 41.75 14.59375 41.75 20.953125 \r\nQ 41.75 27 37.796875 30.921875 \r\nQ 33.84375 34.859375 27.734375 34.859375 \r\nQ 25.25 34.859375 21.53125 33.890625 \r\nL 22.515625 41.609375 \r\nQ 23.390625 41.5 23.921875 41.5 \r\nQ 29.546875 41.5 34.03125 44.421875 \r\nQ 38.53125 47.359375 38.53125 53.46875 \r\nQ 38.53125 58.296875 35.25 61.46875 \r\nQ 31.984375 64.65625 26.8125 64.65625 \r\nQ 21.6875 64.65625 18.265625 61.421875 \r\nQ 14.84375 58.203125 13.875 51.765625 \r\nL 5.078125 53.328125 \r\nQ 6.6875 62.15625 12.390625 67.015625 \r\nQ 18.109375 71.875 26.609375 71.875 \r\nQ 32.46875 71.875 37.390625 69.359375 \r\nQ 42.328125 66.84375 44.9375 62.5 \r\nQ 47.5625 58.15625 47.5625 53.265625 \r\nQ 47.5625 48.640625 45.0625 44.828125 \r\nQ 42.578125 41.015625 37.703125 38.765625 \r\nQ 44.046875 37.3125 47.5625 32.6875 \r\nQ 51.078125 28.078125 51.078125 21.140625 \r\nQ 51.078125 11.765625 44.234375 5.25 \r\nQ 37.40625 -1.265625 26.953125 -1.265625 \r\nQ 17.53125 -1.265625 11.296875 4.34375 \r\nQ 5.078125 9.96875 4.203125 18.890625 \r\nz\r\n\" id=\"ArialMT-51\"/>\r\n       </defs>\r\n       <use xlink:href=\"#ArialMT-51\"/>\r\n       <use x=\"55.615234\" xlink:href=\"#ArialMT-48\"/>\r\n       <use x=\"111.230469\" xlink:href=\"#ArialMT-48\"/>\r\n       <use x=\"166.845703\" xlink:href=\"#ArialMT-48\"/>\r\n      </g>\r\n     </g>\r\n    </g>\r\n    <g id=\"ytick_5\">\r\n     <g id=\"line2d_5\">\r\n      <path clip-path=\"url(#pa8d59225ff)\" d=\"M 49.589063 37.570701 \r\nL 384.389063 37.570701 \r\n\" style=\"fill:none;stroke:#ffffff;stroke-linecap:round;stroke-width:0.8;\"/>\r\n     </g>\r\n     <g id=\"text_8\">\r\n      <!-- 4000 -->\r\n      <g style=\"fill:#262626;\" transform=\"translate(20.345313 41.149607)scale(0.1 -0.1)\">\r\n       <defs>\r\n        <path d=\"M 32.328125 0 \r\nL 32.328125 17.140625 \r\nL 1.265625 17.140625 \r\nL 1.265625 25.203125 \r\nL 33.9375 71.578125 \r\nL 41.109375 71.578125 \r\nL 41.109375 25.203125 \r\nL 50.78125 25.203125 \r\nL 50.78125 17.140625 \r\nL 41.109375 17.140625 \r\nL 41.109375 0 \r\nz\r\nM 32.328125 25.203125 \r\nL 32.328125 57.46875 \r\nL 9.90625 25.203125 \r\nz\r\n\" id=\"ArialMT-52\"/>\r\n       </defs>\r\n       <use xlink:href=\"#ArialMT-52\"/>\r\n       <use x=\"55.615234\" xlink:href=\"#ArialMT-48\"/>\r\n       <use x=\"111.230469\" xlink:href=\"#ArialMT-48\"/>\r\n       <use x=\"166.845703\" xlink:href=\"#ArialMT-48\"/>\r\n      </g>\r\n     </g>\r\n    </g>\r\n    <g id=\"text_9\">\r\n     <!-- count -->\r\n     <g style=\"fill:#262626;\" transform=\"translate(14.357813 128.150469)rotate(-90)scale(0.1 -0.1)\">\r\n      <defs>\r\n       <path d=\"M 40.4375 19 \r\nL 49.078125 17.875 \r\nQ 47.65625 8.9375 41.8125 3.875 \r\nQ 35.984375 -1.171875 27.484375 -1.171875 \r\nQ 16.84375 -1.171875 10.375 5.78125 \r\nQ 3.90625 12.75 3.90625 25.734375 \r\nQ 3.90625 34.125 6.6875 40.421875 \r\nQ 9.46875 46.734375 15.15625 49.875 \r\nQ 20.84375 53.03125 27.546875 53.03125 \r\nQ 35.984375 53.03125 41.359375 48.75 \r\nQ 46.734375 44.484375 48.25 36.625 \r\nL 39.703125 35.296875 \r\nQ 38.484375 40.53125 35.375 43.15625 \r\nQ 32.28125 45.796875 27.875 45.796875 \r\nQ 21.234375 45.796875 17.078125 41.03125 \r\nQ 12.9375 36.28125 12.9375 25.984375 \r\nQ 12.9375 15.53125 16.9375 10.796875 \r\nQ 20.953125 6.0625 27.390625 6.0625 \r\nQ 32.5625 6.0625 36.03125 9.234375 \r\nQ 39.5 12.40625 40.4375 19 \r\nz\r\n\" id=\"ArialMT-99\"/>\r\n      </defs>\r\n      <use xlink:href=\"#ArialMT-99\"/>\r\n      <use x=\"50\" xlink:href=\"#ArialMT-111\"/>\r\n      <use x=\"105.615234\" xlink:href=\"#ArialMT-117\"/>\r\n      <use x=\"161.230469\" xlink:href=\"#ArialMT-110\"/>\r\n      <use x=\"216.845703\" xlink:href=\"#ArialMT-116\"/>\r\n     </g>\r\n    </g>\r\n   </g>\r\n   <g id=\"patch_3\">\r\n    <path clip-path=\"url(#pa8d59225ff)\" d=\"M 66.329062 224.64 \r\nL 133.289062 224.64 \r\nL 133.289062 34.203453 \r\nL 66.329062 34.203453 \r\nz\r\n\" style=\"fill:#3274a1;stroke:#ffffff;stroke-linejoin:miter;\"/>\r\n   </g>\r\n   <g id=\"patch_4\">\r\n    <path clip-path=\"url(#pa8d59225ff)\" d=\"M 233.729062 224.64 \r\nL 300.689062 224.64 \r\nL 300.689062 192.043175 \r\nL 233.729062 192.043175 \r\nz\r\n\" style=\"fill:#3274a1;stroke:#ffffff;stroke-linejoin:miter;\"/>\r\n   </g>\r\n   <g id=\"patch_5\">\r\n    <path clip-path=\"url(#pa8d59225ff)\" d=\"M 133.289062 224.64 \r\nL 200.249063 224.64 \r\nL 200.249063 17.554286 \r\nL 133.289062 17.554286 \r\nz\r\n\" style=\"fill:#e1812c;stroke:#ffffff;stroke-linejoin:miter;\"/>\r\n   </g>\r\n   <g id=\"patch_6\">\r\n    <path clip-path=\"url(#pa8d59225ff)\" d=\"M 300.689062 224.64 \r\nL 367.649063 224.64 \r\nL 367.649063 181.146388 \r\nL 300.689062 181.146388 \r\nz\r\n\" style=\"fill:#e1812c;stroke:#ffffff;stroke-linejoin:miter;\"/>\r\n   </g>\r\n   <g id=\"patch_7\">\r\n    <path d=\"M 49.589063 224.64 \r\nL 49.589063 7.2 \r\n\" style=\"fill:none;stroke:#ffffff;stroke-linecap:square;stroke-linejoin:miter;stroke-width:0.8;\"/>\r\n   </g>\r\n   <g id=\"patch_8\">\r\n    <path d=\"M 384.389063 224.64 \r\nL 384.389063 7.2 \r\n\" style=\"fill:none;stroke:#ffffff;stroke-linecap:square;stroke-linejoin:miter;stroke-width:0.8;\"/>\r\n   </g>\r\n   <g id=\"patch_9\">\r\n    <path d=\"M 49.589062 224.64 \r\nL 384.389063 224.64 \r\n\" style=\"fill:none;stroke:#ffffff;stroke-linecap:square;stroke-linejoin:miter;stroke-width:0.8;\"/>\r\n   </g>\r\n   <g id=\"patch_10\">\r\n    <path d=\"M 49.589062 7.2 \r\nL 384.389063 7.2 \r\n\" style=\"fill:none;stroke:#ffffff;stroke-linecap:square;stroke-linejoin:miter;stroke-width:0.8;\"/>\r\n   </g>\r\n   <g id=\"legend_1\">\r\n    <g id=\"patch_11\">\r\n     <path d=\"M 337.059375 57.635937 \r\nL 377.389063 57.635937 \r\nQ 379.389063 57.635937 379.389063 55.635937 \r\nL 379.389063 14.2 \r\nQ 379.389063 12.2 377.389063 12.2 \r\nL 337.059375 12.2 \r\nQ 335.059375 12.2 335.059375 14.2 \r\nL 335.059375 55.635937 \r\nQ 335.059375 57.635937 337.059375 57.635937 \r\nz\r\n\" style=\"fill:#eaeaf2;opacity:0.8;stroke:#cccccc;stroke-linejoin:miter;\"/>\r\n    </g>\r\n    <g id=\"text_10\">\r\n     <!-- Gender -->\r\n     <g style=\"fill:#262626;\" transform=\"translate(340.548438 23.357812)scale(0.1 -0.1)\">\r\n      <defs>\r\n       <path d=\"M 41.21875 28.078125 \r\nL 41.21875 36.46875 \r\nL 71.53125 36.53125 \r\nL 71.53125 9.96875 \r\nQ 64.546875 4.390625 57.125 1.578125 \r\nQ 49.703125 -1.21875 41.890625 -1.21875 \r\nQ 31.34375 -1.21875 22.71875 3.296875 \r\nQ 14.109375 7.8125 9.71875 16.359375 \r\nQ 5.328125 24.90625 5.328125 35.453125 \r\nQ 5.328125 45.90625 9.6875 54.953125 \r\nQ 14.0625 64.015625 22.265625 68.40625 \r\nQ 30.46875 72.796875 41.15625 72.796875 \r\nQ 48.921875 72.796875 55.1875 70.28125 \r\nQ 61.46875 67.78125 65.03125 63.28125 \r\nQ 68.609375 58.796875 70.453125 51.5625 \r\nL 61.921875 49.21875 \r\nQ 60.296875 54.6875 57.90625 57.8125 \r\nQ 55.515625 60.9375 51.0625 62.8125 \r\nQ 46.625 64.703125 41.21875 64.703125 \r\nQ 34.71875 64.703125 29.984375 62.71875 \r\nQ 25.25 60.75 22.34375 57.515625 \r\nQ 19.4375 54.296875 17.828125 50.4375 \r\nQ 15.09375 43.796875 15.09375 36.03125 \r\nQ 15.09375 26.46875 18.390625 20.015625 \r\nQ 21.6875 13.578125 27.984375 10.453125 \r\nQ 34.28125 7.328125 41.359375 7.328125 \r\nQ 47.515625 7.328125 53.375 9.6875 \r\nQ 59.234375 12.0625 62.25 14.75 \r\nL 62.25 28.078125 \r\nz\r\n\" id=\"ArialMT-71\"/>\r\n      </defs>\r\n      <use xlink:href=\"#ArialMT-71\"/>\r\n      <use x=\"77.783203\" xlink:href=\"#ArialMT-101\"/>\r\n      <use x=\"133.398438\" xlink:href=\"#ArialMT-110\"/>\r\n      <use x=\"189.013672\" xlink:href=\"#ArialMT-100\"/>\r\n      <use x=\"244.628906\" xlink:href=\"#ArialMT-101\"/>\r\n      <use x=\"300.244141\" xlink:href=\"#ArialMT-114\"/>\r\n     </g>\r\n    </g>\r\n    <g id=\"patch_12\">\r\n     <path d=\"M 339.059375 37.503125 \r\nL 359.059375 37.503125 \r\nL 359.059375 30.503125 \r\nL 339.059375 30.503125 \r\nz\r\n\" style=\"fill:#3274a1;stroke:#ffffff;stroke-linejoin:miter;\"/>\r\n    </g>\r\n    <g id=\"text_11\">\r\n     <!-- M -->\r\n     <g style=\"fill:#262626;\" transform=\"translate(367.059375 37.503125)scale(0.1 -0.1)\">\r\n      <defs>\r\n       <path d=\"M 7.421875 0 \r\nL 7.421875 71.578125 \r\nL 21.6875 71.578125 \r\nL 38.625 20.90625 \r\nQ 40.96875 13.8125 42.046875 10.296875 \r\nQ 43.265625 14.203125 45.84375 21.78125 \r\nL 62.984375 71.578125 \r\nL 75.734375 71.578125 \r\nL 75.734375 0 \r\nL 66.609375 0 \r\nL 66.609375 59.90625 \r\nL 45.796875 0 \r\nL 37.25 0 \r\nL 16.546875 60.9375 \r\nL 16.546875 0 \r\nz\r\n\" id=\"ArialMT-77\"/>\r\n      </defs>\r\n      <use xlink:href=\"#ArialMT-77\"/>\r\n     </g>\r\n    </g>\r\n    <g id=\"patch_13\">\r\n     <path d=\"M 339.059375 51.648437 \r\nL 359.059375 51.648437 \r\nL 359.059375 44.648437 \r\nL 339.059375 44.648437 \r\nz\r\n\" style=\"fill:#e1812c;stroke:#ffffff;stroke-linejoin:miter;\"/>\r\n    </g>\r\n    <g id=\"text_12\">\r\n     <!-- F -->\r\n     <g style=\"fill:#262626;\" transform=\"translate(367.059375 51.648437)scale(0.1 -0.1)\">\r\n      <use xlink:href=\"#ArialMT-70\"/>\r\n     </g>\r\n    </g>\r\n   </g>\r\n  </g>\r\n </g>\r\n <defs>\r\n  <clipPath id=\"pa8d59225ff\">\r\n   <rect height=\"217.44\" width=\"334.8\" x=\"49.589063\" y=\"7.2\"/>\r\n  </clipPath>\r\n </defs>\r\n</svg>\r\n",
      "image/png": "[encoded data removed]"
     },
     "metadata": {
      "needs_background": "light"
     }
    }
   ],
   "source": [
    "# Attrited Customers Vs Education with Gender hue\n",
    "\n",
    "# Count Plot for practice\n",
    "fig = sns.countplot(data=cat_columns, x=\"Attrition_Flag\", hue=\"Gender\")\n",
    "plt.show()"
   ]
  },
  {
   "cell_type": "code",
   "execution_count": null,
   "metadata": {},
   "outputs": [],
   "source": []
  }
 ],
 "metadata": {
  "kernelspec": {
   "name": "python3",
   "display_name": "Python 3",
   "language": "python"
  },
  "language_info": {
   "codemirror_mode": {
    "name": "ipython",
    "version": 3
   },
   "file_extension": ".py",
   "mimetype": "text/x-python",
   "name": "python",
   "nbconvert_exporter": "python",
   "pygments_lexer": "ipython3",
   "version": "3.9.0-final"
  }
 },
 "nbformat": 4,
 "nbformat_minor": 5
}